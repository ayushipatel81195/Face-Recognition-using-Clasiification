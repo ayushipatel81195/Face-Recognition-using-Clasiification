{
 "cells": [
  {
   "cell_type": "code",
   "execution_count": 11,
   "metadata": {},
   "outputs": [],
   "source": [
    "import pandas as pd\n",
    "import pickle\n",
    "import numpy as np\n",
    "import matplotlib.pyplot as plt\n",
    "from sklearn.neighbors import KNeighborsClassifier\n",
    "from sklearn.decomposition import PCA\n",
    "from sklearn.model_selection import train_test_split,cross_validate,StratifiedKFold\n",
    "from sklearn import svm\n",
    "from keras.utils import to_categorical"
   ]
  },
  {
   "cell_type": "code",
   "execution_count": 13,
   "metadata": {},
   "outputs": [
    {
     "name": "stdout",
     "output_type": "stream",
     "text": [
      "(13233, 4096)\n",
      "52\n"
     ]
    }
   ],
   "source": [
    "X=pd.read_csv(\"data/X.csv\", sep=' ',header=None, dtype=float)\n",
    "X=X.values\n",
    "Y=pd.read_csv(\"data/y_williams_vs_others.csv\", header=None)\n",
    "y = Y.values.ravel()\n",
    "print(X.shape)\n",
    "print(np.sum(y))"
   ]
  },
  {
   "cell_type": "code",
   "execution_count": 127,
   "metadata": {},
   "outputs": [
    {
     "name": "stdout",
     "output_type": "stream",
     "text": [
      "[[0.10635443 0.09975202 0.11191927 ... 0.04983379 0.05402631 0.04627987]\n",
      " [0.         0.         0.         ... 0.00410788 0.         0.        ]\n",
      " [0.         0.         0.         ... 0.         0.         0.        ]\n",
      " ...\n",
      " [0.         0.         0.         ... 0.00074521 0.         0.        ]\n",
      " [0.         0.         0.         ... 0.         0.         0.        ]\n",
      " [0.         0.         0.         ... 0.00030042 0.         0.        ]]\n",
      "[0 0 0 ... 0 0 0]\n",
      "2\n",
      "[[1. 0.]\n",
      " [1. 0.]\n",
      " [1. 0.]\n",
      " ...\n",
      " [1. 0.]\n",
      " [1. 0.]\n",
      " [1. 0.]]\n"
     ]
    }
   ],
   "source": [
    "print(X)\n",
    "print(y)\n",
    "y_cat = to_categorical(y)\n",
    "classes = np.unique(y)\n",
    "nClasses = len(classes)\n",
    "print(nClasses)\n",
    "print(y_cat)"
   ]
  },
  {
   "cell_type": "code",
   "execution_count": 128,
   "metadata": {},
   "outputs": [],
   "source": [
    "X_b = X.reshape(-1,64,64,1)\n",
    "X_train, X_test, y_train, y_test = train_test_split(X_b, y, shuffle = True,stratify=y, test_size=1/3, random_state=7392)"
   ]
  },
  {
   "cell_type": "code",
   "execution_count": 129,
   "metadata": {},
   "outputs": [
    {
     "name": "stdout",
     "output_type": "stream",
     "text": [
      "(8822, 64, 64, 1)\n",
      "(4411, 64, 64, 1)\n",
      "(8822,)\n",
      "(4411,)\n"
     ]
    }
   ],
   "source": [
    "print(X_train.shape)\n",
    "print(X_test.shape)\n",
    "print(y_train.shape)\n",
    "print(y_test.shape)"
   ]
  },
  {
   "cell_type": "code",
   "execution_count": 130,
   "metadata": {},
   "outputs": [
    {
     "name": "stdout",
     "output_type": "stream",
     "text": [
      "_________________________________________________________________\n",
      "Layer (type)                 Output Shape              Param #   \n",
      "=================================================================\n",
      "conv2d_40 (Conv2D)           (None, 62, 62, 64)        640       \n",
      "_________________________________________________________________\n",
      "max_pooling2d_40 (MaxPooling (None, 31, 31, 64)        0         \n",
      "_________________________________________________________________\n",
      "conv2d_41 (Conv2D)           (None, 29, 29, 128)       73856     \n",
      "_________________________________________________________________\n",
      "max_pooling2d_41 (MaxPooling (None, 14, 14, 128)       0         \n",
      "_________________________________________________________________\n",
      "dropout_2 (Dropout)          (None, 14, 14, 128)       0         \n",
      "_________________________________________________________________\n",
      "flatten_17 (Flatten)         (None, 25088)             0         \n",
      "_________________________________________________________________\n",
      "dense_24 (Dense)             (None, 1)                 25089     \n",
      "=================================================================\n",
      "Total params: 99,585\n",
      "Trainable params: 99,585\n",
      "Non-trainable params: 0\n",
      "_________________________________________________________________\n"
     ]
    }
   ],
   "source": [
    "from keras import layers\n",
    "from keras import models\n",
    "from keras.layers.core import Activation\n",
    "model = models.Sequential()\n",
    "model.add(layers.Conv2D(64,(3,3),activation='relu',input_shape=(64,64,1)))\n",
    "model.add(layers.MaxPooling2D(pool_size=(2, 2),strides=(2,2)))\n",
    "model.add(layers.Conv2D(128, (3,3),activation='relu'))\n",
    "model.add(layers.MaxPooling2D(pool_size=(2, 2),strides=(2,2)))\n",
    "#model.add(layers.Conv2D(64, (3,3),activation='relu'))\n",
    "#model.add(layers.MaxPooling2D(pool_size=(2, 2),strides=(2,2)))\n",
    "model.add(layers.Dropout(0.5))\n",
    "model.add(layers.Flatten())\n",
    "\n",
    "#model.add(layers.Dense(64, activation='tanh'))\n",
    "model.add(layers.Dense(1, activation='sigmoid'))\n",
    "model.compile(loss='binary_crossentropy', optimizer='adam', metrics=['accuracy'])\n",
    "model.summary()"
   ]
  },
  {
   "cell_type": "code",
   "execution_count": 131,
   "metadata": {},
   "outputs": [
    {
     "name": "stdout",
     "output_type": "stream",
     "text": [
      "Epoch 1/10\n",
      "8822/8822 [==============================] - 110s 12ms/step - loss: 0.0482 - acc: 0.9895\n",
      "Epoch 2/10\n",
      "8822/8822 [==============================] - 96s 11ms/step - loss: 0.0240 - acc: 0.9960\n",
      "Epoch 3/10\n",
      "8822/8822 [==============================] - 95s 11ms/step - loss: 0.0191 - acc: 0.9959\n",
      "Epoch 4/10\n",
      "8822/8822 [==============================] - 97s 11ms/step - loss: 0.0133 - acc: 0.9961\n",
      "Epoch 5/10\n",
      "8822/8822 [==============================] - 98s 11ms/step - loss: 0.0083 - acc: 0.9975\n",
      "Epoch 6/10\n",
      "8822/8822 [==============================] - 96s 11ms/step - loss: 0.0083 - acc: 0.9978\n",
      "Epoch 7/10\n",
      "8822/8822 [==============================] - 96s 11ms/step - loss: 0.0056 - acc: 0.9982\n",
      "Epoch 8/10\n",
      "8822/8822 [==============================] - 98s 11ms/step - loss: 0.0038 - acc: 0.9991\n",
      "Epoch 9/10\n",
      "8822/8822 [==============================] - 96s 11ms/step - loss: 0.0029 - acc: 0.9991\n",
      "Epoch 10/10\n",
      "8822/8822 [==============================] - 98s 11ms/step - loss: 0.0029 - acc: 0.9990\n"
     ]
    },
    {
     "data": {
      "text/plain": [
       "<keras.callbacks.History at 0x1a3f15bc50>"
      ]
     },
     "execution_count": 131,
     "metadata": {},
     "output_type": "execute_result"
    }
   ],
   "source": [
    "#train_X=X_train.reshape(-1,64,64,1)\n",
    "model.fit(X_train,y_train,batch_size=64,epochs=10)"
   ]
  },
  {
   "cell_type": "code",
   "execution_count": 132,
   "metadata": {},
   "outputs": [
    {
     "name": "stdout",
     "output_type": "stream",
     "text": [
      "4411/4411 [==============================] - 14s 3ms/step\n"
     ]
    }
   ],
   "source": [
    "scores = model.evaluate(X_test, y_test)\n"
   ]
  },
  {
   "cell_type": "code",
   "execution_count": 133,
   "metadata": {},
   "outputs": [
    {
     "name": "stdout",
     "output_type": "stream",
     "text": [
      "[0.019700435756374857, 0.9975062344139651]\n"
     ]
    }
   ],
   "source": [
    "print(scores)"
   ]
  },
  {
   "cell_type": "code",
   "execution_count": 134,
   "metadata": {},
   "outputs": [
    {
     "name": "stdout",
     "output_type": "stream",
     "text": [
      "(4411, 1)\n",
      "(4411,)\n"
     ]
    }
   ],
   "source": [
    "predict_function= model.predict_classes(X_test)\n",
    "print(predict_function.shape)\n",
    "print(y_test.shape)"
   ]
  },
  {
   "cell_type": "code",
   "execution_count": 135,
   "metadata": {},
   "outputs": [
    {
     "name": "stdout",
     "output_type": "stream",
     "text": [
      "0.5217391304347826\n"
     ]
    }
   ],
   "source": [
    "from sklearn.metrics import f1_score\n",
    "f1_williams=f1_score(y_test,predict_function)\n",
    "print(f1_williams)"
   ]
  },
  {
   "cell_type": "code",
   "execution_count": 136,
   "metadata": {},
   "outputs": [
    {
     "name": "stdout",
     "output_type": "stream",
     "text": [
      "(8822, 1)\n",
      "(8822,)\n"
     ]
    }
   ],
   "source": [
    "predict_function= model.predict_classes(train_X)\n",
    "print(predict_function.shape)\n",
    "print(y_train.shape)"
   ]
  },
  {
   "cell_type": "code",
   "execution_count": 137,
   "metadata": {},
   "outputs": [
    {
     "name": "stdout",
     "output_type": "stream",
     "text": [
      "0.923076923076923\n"
     ]
    }
   ],
   "source": [
    "from sklearn.metrics import f1_score\n",
    "f1_williams=f1_score(y_train,predict_function)\n",
    "print(f1_williams)"
   ]
  },
  {
   "cell_type": "code",
   "execution_count": 138,
   "metadata": {},
   "outputs": [],
   "source": [
    "model.save('williams.model')"
   ]
  },
  {
   "cell_type": "code",
   "execution_count": 139,
   "metadata": {},
   "outputs": [
    {
     "name": "stdout",
     "output_type": "stream",
     "text": [
      "_________________________________________________________________\n",
      "Layer (type)                 Output Shape              Param #   \n",
      "=================================================================\n",
      "conv2d_40 (Conv2D)           (None, 62, 62, 64)        640       \n",
      "_________________________________________________________________\n",
      "max_pooling2d_40 (MaxPooling (None, 31, 31, 64)        0         \n",
      "_________________________________________________________________\n",
      "conv2d_41 (Conv2D)           (None, 29, 29, 128)       73856     \n",
      "_________________________________________________________________\n",
      "max_pooling2d_41 (MaxPooling (None, 14, 14, 128)       0         \n",
      "_________________________________________________________________\n",
      "dropout_2 (Dropout)          (None, 14, 14, 128)       0         \n",
      "_________________________________________________________________\n",
      "flatten_17 (Flatten)         (None, 25088)             0         \n",
      "_________________________________________________________________\n",
      "dense_24 (Dense)             (None, 1)                 25089     \n",
      "=================================================================\n",
      "Total params: 99,585\n",
      "Trainable params: 99,585\n",
      "Non-trainable params: 0\n",
      "_________________________________________________________________\n"
     ]
    }
   ],
   "source": [
    "from keras.models import load_model\n",
    "model_final = load_model('williams.model')\n",
    "model_final.summary()"
   ]
  },
  {
   "cell_type": "code",
   "execution_count": 140,
   "metadata": {},
   "outputs": [
    {
     "name": "stdout",
     "output_type": "stream",
     "text": [
      "0.923076923076923\n",
      "0.5217391304347826\n"
     ]
    }
   ],
   "source": [
    "predict_function1 = model_final.predict_classes(train_X)\n",
    "predict_function = model_final.predict_classes(test_X)\n",
    "from sklearn.metrics import f1_score\n",
    "f1_williams = f1_score(y_test,predict_function)\n",
    "f1_williams1 = f1_score(y_train,predict_function1)\n",
    "print(f1_williams1)\n",
    "print(f1_williams)"
   ]
  },
  {
   "cell_type": "code",
   "execution_count": 143,
   "metadata": {},
   "outputs": [],
   "source": [
    "import pickle"
   ]
  },
  {
   "cell_type": "code",
   "execution_count": 144,
   "metadata": {},
   "outputs": [
    {
     "name": "stdout",
     "output_type": "stream",
     "text": [
      "[0.923076923076923, 0.5217391304347826]\n"
     ]
    }
   ],
   "source": [
    "p = [f1_williams1, f1_williams]\n",
    "print (p)"
   ]
  },
  {
   "cell_type": "code",
   "execution_count": 145,
   "metadata": {},
   "outputs": [],
   "source": [
    "pickle.dump(p, open('williams.pkl', 'wb'))"
   ]
  },
  {
   "cell_type": "code",
   "execution_count": null,
   "metadata": {},
   "outputs": [],
   "source": []
  }
 ],
 "metadata": {
  "kernelspec": {
   "display_name": "Python 3",
   "language": "python",
   "name": "python3"
  },
  "language_info": {
   "codemirror_mode": {
    "name": "ipython",
    "version": 3
   },
   "file_extension": ".py",
   "mimetype": "text/x-python",
   "name": "python",
   "nbconvert_exporter": "python",
   "pygments_lexer": "ipython3",
   "version": "3.6.5"
  }
 },
 "nbformat": 4,
 "nbformat_minor": 2
}
