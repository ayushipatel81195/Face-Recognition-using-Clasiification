{
 "cells": [
  {
   "cell_type": "code",
   "execution_count": 2,
   "metadata": {},
   "outputs": [],
   "source": [
    "import pandas as pd\n",
    "import numpy as np\n",
    "import statistics \n",
    "from sklearn.decomposition import PCA\n",
    "from sklearn.neighbors import KNeighborsClassifier\n",
    "from sklearn.model_selection import cross_validate, StratifiedKFold\n",
    "from sklearn.svm import SVC"
   ]
  },
  {
   "cell_type": "code",
   "execution_count": 3,
   "metadata": {},
   "outputs": [],
   "source": [
    "X = pd.read_csv(\"data/X.csv\", sep=' ', header=None, dtype=float)\n",
    "X = X.values"
   ]
  },
  {
   "cell_type": "code",
   "execution_count": 4,
   "metadata": {},
   "outputs": [],
   "source": [
    "y = pd.read_csv(\"data/y_bush_vs_others.csv\", header=None)\n",
    "y_bush = y.values.ravel()\n",
    "y = pd.read_csv(\"data/y_williams_vs_others.csv\", header=None)\n",
    "y_williams = y.values.ravel()"
   ]
  },
  {
   "cell_type": "code",
   "execution_count": 5,
   "metadata": {},
   "outputs": [
    {
     "data": {
      "text/plain": [
       "(13233, 4096)"
      ]
     },
     "execution_count": 5,
     "metadata": {},
     "output_type": "execute_result"
    }
   ],
   "source": [
    "X.shape"
   ]
  },
  {
   "cell_type": "code",
   "execution_count": 6,
   "metadata": {},
   "outputs": [
    {
     "data": {
      "text/plain": [
       "530"
      ]
     },
     "execution_count": 6,
     "metadata": {},
     "output_type": "execute_result"
    }
   ],
   "source": [
    "np.sum(y_bush)"
   ]
  },
  {
   "cell_type": "code",
   "execution_count": 7,
   "metadata": {},
   "outputs": [
    {
     "data": {
      "text/plain": [
       "(13233,)"
      ]
     },
     "execution_count": 7,
     "metadata": {},
     "output_type": "execute_result"
    }
   ],
   "source": [
    "y_williams.shape"
   ]
  },
  {
   "cell_type": "code",
   "execution_count": 125,
   "metadata": {},
   "outputs": [
    {
     "name": "stdout",
     "output_type": "stream",
     "text": [
      "(13233, 2000)\n"
     ]
    },
    {
     "data": {
      "text/plain": [
       "array([[-6.17302394e+00, -1.83102506e+00, -6.82618249e-01, ...,\n",
       "         6.98684853e-03, -7.50509013e-02, -4.43466925e-02],\n",
       "       [-8.74472615e+00, -1.06152081e+00,  4.39499342e+00, ...,\n",
       "         4.74792249e-02,  3.50619466e-02, -3.73746923e-02],\n",
       "       [-5.58314778e+00,  3.12191247e+00, -1.73468030e+00, ...,\n",
       "         1.03409143e-01, -2.58186683e-02,  4.58111268e-03],\n",
       "       ...,\n",
       "       [-1.15627879e+01, -3.03118032e+00, -1.31590288e+00, ...,\n",
       "        -1.77078312e-02,  3.16146911e-02,  1.47936544e-02],\n",
       "       [-1.29620813e+01, -3.61012008e+00,  2.00276782e+00, ...,\n",
       "        -3.85147482e-03, -2.49218550e-02, -3.07390425e-02],\n",
       "       [-3.23516636e+00, -4.68425394e+00, -1.80796164e+00, ...,\n",
       "         9.87610985e-03, -4.47723228e-03, -3.84094743e-03]])"
      ]
     },
     "execution_count": 125,
     "metadata": {},
     "output_type": "execute_result"
    }
   ],
   "source": [
    "pca = PCA(n_components=2000)\n",
    "X_pca = pca.fit_transform(X)\n",
    "print(X_pca.shape)\n",
    "X_pca"
   ]
  },
  {
   "cell_type": "code",
   "execution_count": 134,
   "metadata": {},
   "outputs": [],
   "source": [
    "svc3 = SVC(C = 1000, kernel = 'linear')"
   ]
  },
  {
   "cell_type": "code",
   "execution_count": 135,
   "metadata": {},
   "outputs": [],
   "source": [
    "startified_cv_results = cross_validate(svc3, X_pca, y_williams, cv=StratifiedKFold(n_splits = 3, shuffle=True, random_state=7392), scoring=('precision', 'recall', 'f1'), return_train_score=False)"
   ]
  },
  {
   "cell_type": "code",
   "execution_count": 136,
   "metadata": {},
   "outputs": [
    {
     "data": {
      "text/plain": [
       "{'fit_time': array([4.738132  , 5.73593879, 6.74808598]),\n",
       " 'score_time': array([5.20861411, 7.12185597, 6.85193777]),\n",
       " 'test_precision': array([0.63636364, 0.875     , 0.77777778]),\n",
       " 'test_recall': array([0.38888889, 0.41176471, 0.41176471]),\n",
       " 'test_f1': array([0.48275862, 0.56      , 0.53846154])}"
      ]
     },
     "execution_count": 136,
     "metadata": {},
     "output_type": "execute_result"
    }
   ],
   "source": [
    "startified_cv_results"
   ]
  },
  {
   "cell_type": "code",
   "execution_count": 137,
   "metadata": {},
   "outputs": [
    {
     "name": "stdout",
     "output_type": "stream",
     "text": [
      "test_f1 mean is: 0.5270733863837312\n"
     ]
    }
   ],
   "source": [
    "fit_timemean = statistics.mean(startified_cv_results['test_f1'])\n",
    "print(\"test_f1 mean is:\", fit_timemean)"
   ]
  },
  {
   "cell_type": "code",
   "execution_count": 200,
   "metadata": {},
   "outputs": [
    {
     "name": "stdout",
     "output_type": "stream",
     "text": [
      "(13233, 1000)\n"
     ]
    },
    {
     "data": {
      "text/plain": [
       "array([[-6.17302394e+00, -1.83102506e+00, -6.82618249e-01, ...,\n",
       "        -1.16323404e-01, -6.60217768e-02, -2.71023901e-01],\n",
       "       [-8.74472615e+00, -1.06152081e+00,  4.39499342e+00, ...,\n",
       "        -1.38566465e-01, -1.76105245e-01, -1.06188684e-02],\n",
       "       [-5.58314778e+00,  3.12191247e+00, -1.73468030e+00, ...,\n",
       "         5.76000445e-02,  6.65109438e-02, -6.75396672e-02],\n",
       "       ...,\n",
       "       [-1.15627879e+01, -3.03118032e+00, -1.31590288e+00, ...,\n",
       "         7.83137361e-02,  8.42509685e-02, -6.07774916e-02],\n",
       "       [-1.29620813e+01, -3.61012008e+00,  2.00276782e+00, ...,\n",
       "         3.89656485e-02,  9.50583383e-03, -6.40079122e-02],\n",
       "       [-3.23516636e+00, -4.68425394e+00, -1.80796164e+00, ...,\n",
       "         1.70366634e-01, -3.59922953e-02, -4.60972326e-02]])"
      ]
     },
     "execution_count": 200,
     "metadata": {},
     "output_type": "execute_result"
    }
   ],
   "source": [
    "pca = PCA(n_components=1600)\n",
    "X_pca = pca.fit_transform(X)\n",
    "print(X_pca.shape)\n",
    "X_pca"
   ]
  },
  {
   "cell_type": "code",
   "execution_count": 209,
   "metadata": {},
   "outputs": [],
   "source": [
    "svc4 = SVC(C = 100, kernel = 'rbf')"
   ]
  },
  {
   "cell_type": "code",
   "execution_count": 210,
   "metadata": {},
   "outputs": [],
   "source": [
    "startified_cv_results = cross_validate(svc4, X_pca, y_williams, cv=StratifiedKFold(n_splits = 3, shuffle=True, random_state=7392), scoring=('precision', 'recall', 'f1'), return_train_score=False)"
   ]
  },
  {
   "cell_type": "code",
   "execution_count": 211,
   "metadata": {},
   "outputs": [
    {
     "data": {
      "text/plain": [
       "{'fit_time': array([2.40967798, 2.58100009, 2.43026114]),\n",
       " 'score_time': array([3.03738427, 3.39584494, 3.20498681]),\n",
       " 'test_precision': array([0.66666667, 0.8       , 1.        ]),\n",
       " 'test_recall': array([0.22222222, 0.47058824, 0.35294118]),\n",
       " 'test_f1': array([0.33333333, 0.59259259, 0.52173913])}"
      ]
     },
     "execution_count": 211,
     "metadata": {},
     "output_type": "execute_result"
    }
   ],
   "source": [
    "startified_cv_results"
   ]
  },
  {
   "cell_type": "code",
   "execution_count": 212,
   "metadata": {},
   "outputs": [
    {
     "name": "stdout",
     "output_type": "stream",
     "text": [
      "test_f1 mean is: 0.4825550187869029\n"
     ]
    }
   ],
   "source": [
    "fit_timemean = statistics.mean(startified_cv_results['test_f1'])\n",
    "print(\"test_f1 mean is:\", fit_timemean)"
   ]
  },
  {
   "cell_type": "code",
   "execution_count": 13,
   "metadata": {},
   "outputs": [
    {
     "name": "stdout",
     "output_type": "stream",
     "text": [
      "(13233, 1600)\n"
     ]
    },
    {
     "data": {
      "text/plain": [
       "array([[-6.17302394e+00, -1.83102506e+00, -6.82618249e-01, ...,\n",
       "         2.11741329e-02,  7.47326788e-02, -6.95640979e-02],\n",
       "       [-8.74472615e+00, -1.06152081e+00,  4.39499342e+00, ...,\n",
       "        -2.55249715e-02, -1.50870876e-02, -7.85137378e-02],\n",
       "       [-5.58314778e+00,  3.12191247e+00, -1.73468030e+00, ...,\n",
       "         6.38931488e-02,  5.89599259e-02, -1.14193049e-01],\n",
       "       ...,\n",
       "       [-1.15627879e+01, -3.03118032e+00, -1.31590288e+00, ...,\n",
       "        -2.38688925e-02, -3.58446083e-02,  1.65023548e-02],\n",
       "       [-1.29620813e+01, -3.61012008e+00,  2.00276782e+00, ...,\n",
       "         2.89238170e-02,  8.40648060e-02,  3.40262789e-02],\n",
       "       [-3.23516636e+00, -4.68425394e+00, -1.80796164e+00, ...,\n",
       "        -3.17508708e-02,  1.12168250e-02, -2.10019892e-02]])"
      ]
     },
     "execution_count": 13,
     "metadata": {},
     "output_type": "execute_result"
    }
   ],
   "source": [
    "pca = PCA(n_components=1600)\n",
    "X_pca = pca.fit_transform(X)\n",
    "print(X_pca.shape)\n",
    "X_pca"
   ]
  },
  {
   "cell_type": "code",
   "execution_count": 14,
   "metadata": {},
   "outputs": [],
   "source": [
    "svc1 = SVC(C = 5, kernel = 'poly', degree=9, coef0=100)"
   ]
  },
  {
   "cell_type": "code",
   "execution_count": 15,
   "metadata": {},
   "outputs": [],
   "source": [
    "startified_cv_results = cross_validate(svc1, X_pca, y_williams, cv=StratifiedKFold(n_splits = 3, shuffle=True, random_state=7392), scoring=('precision', 'recall', 'f1'), return_train_score=False)"
   ]
  },
  {
   "cell_type": "code",
   "execution_count": 16,
   "metadata": {},
   "outputs": [
    {
     "data": {
      "text/plain": [
       "{'fit_time': array([3.65529609, 3.81352401, 3.74575686]),\n",
       " 'score_time': array([4.06904697, 4.39719129, 4.13387609]),\n",
       " 'test_precision': array([0.63636364, 0.875     , 0.7       ]),\n",
       " 'test_recall': array([0.38888889, 0.41176471, 0.41176471]),\n",
       " 'test_f1': array([0.48275862, 0.56      , 0.51851852])}"
      ]
     },
     "execution_count": 16,
     "metadata": {},
     "output_type": "execute_result"
    }
   ],
   "source": [
    "startified_cv_results"
   ]
  },
  {
   "cell_type": "code",
   "execution_count": 17,
   "metadata": {},
   "outputs": [
    {
     "name": "stdout",
     "output_type": "stream",
     "text": [
      "test_f1 mean is: 0.5204257130693912\n"
     ]
    }
   ],
   "source": [
    "fit_timemean = statistics.mean(startified_cv_results['test_f1'])\n",
    "print(\"test_f1 mean is:\", fit_timemean)"
   ]
  },
  {
   "cell_type": "code",
   "execution_count": null,
   "metadata": {},
   "outputs": [],
   "source": []
  }
 ],
 "metadata": {
  "kernelspec": {
   "display_name": "Python 3",
   "language": "python",
   "name": "python3"
  },
  "language_info": {
   "codemirror_mode": {
    "name": "ipython",
    "version": 3
   },
   "file_extension": ".py",
   "mimetype": "text/x-python",
   "name": "python",
   "nbconvert_exporter": "python",
   "pygments_lexer": "ipython3",
   "version": "3.6.5"
  }
 },
 "nbformat": 4,
 "nbformat_minor": 2
}
