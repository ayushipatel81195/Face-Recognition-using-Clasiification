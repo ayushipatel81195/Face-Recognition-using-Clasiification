{
 "cells": [
  {
   "cell_type": "code",
   "execution_count": 2,
   "metadata": {},
   "outputs": [],
   "source": [
    "import pandas as pd\n",
    "import numpy as np\n",
    "import statistics \n",
    "from sklearn.decomposition import PCA\n",
    "from sklearn.neighbors import KNeighborsClassifier\n",
    "from sklearn.model_selection import cross_validate, StratifiedKFold\n",
    "from sklearn.svm import SVC"
   ]
  },
  {
   "cell_type": "code",
   "execution_count": 3,
   "metadata": {},
   "outputs": [],
   "source": [
    "X = pd.read_csv(\"data/X.csv\", sep=' ', header=None, dtype=float)\n",
    "X = X.values"
   ]
  },
  {
   "cell_type": "code",
   "execution_count": 4,
   "metadata": {},
   "outputs": [],
   "source": [
    "y = pd.read_csv(\"data/y_bush_vs_others.csv\", header=None)\n",
    "y_bush = y.values.ravel()\n",
    "y = pd.read_csv(\"data/y_williams_vs_others.csv\", header=None)\n",
    "y_williams = y.values.ravel()"
   ]
  },
  {
   "cell_type": "code",
   "execution_count": 56,
   "metadata": {},
   "outputs": [
    {
     "name": "stdout",
     "output_type": "stream",
     "text": [
      "(13233, 2500)\n"
     ]
    },
    {
     "data": {
      "text/plain": [
       "array([[-6.17302394e+00, -1.83102506e+00, -6.82618249e-01, ...,\n",
       "        -8.90704791e-03,  1.35706227e-01,  6.25345894e-03],\n",
       "       [-8.74472615e+00, -1.06152081e+00,  4.39499342e+00, ...,\n",
       "        -6.37950088e-02,  2.79446556e-02, -3.59480422e-02],\n",
       "       [-5.58314778e+00,  3.12191247e+00, -1.73468030e+00, ...,\n",
       "         1.08516162e-03, -8.00728134e-02, -6.89157869e-02],\n",
       "       ...,\n",
       "       [-1.15627879e+01, -3.03118032e+00, -1.31590288e+00, ...,\n",
       "        -1.85041157e-02, -4.99295408e-02, -1.43475112e-02],\n",
       "       [-1.29620813e+01, -3.61012008e+00,  2.00276782e+00, ...,\n",
       "        -1.92022785e-02, -4.72281063e-02, -3.61457718e-02],\n",
       "       [-3.23516636e+00, -4.68425394e+00, -1.80796164e+00, ...,\n",
       "        -2.39624544e-02, -5.53598122e-02, -7.13038057e-02]])"
      ]
     },
     "execution_count": 56,
     "metadata": {},
     "output_type": "execute_result"
    }
   ],
   "source": [
    "pca = PCA(n_components=2500)\n",
    "X_pca = pca.fit_transform(X)\n",
    "print(X_pca.shape)\n",
    "X_pca"
   ]
  },
  {
   "cell_type": "code",
   "execution_count": 57,
   "metadata": {},
   "outputs": [],
   "source": [
    "svc8 = SVC(C = 0.01, kernel = 'linear')"
   ]
  },
  {
   "cell_type": "code",
   "execution_count": 58,
   "metadata": {},
   "outputs": [],
   "source": [
    "startified_cv_results = cross_validate(svc8, X_pca, y_bush, cv=StratifiedKFold(n_splits = 3, shuffle=True, random_state=7392), scoring=('precision', 'recall', 'f1'), return_train_score=False)"
   ]
  },
  {
   "cell_type": "code",
   "execution_count": 59,
   "metadata": {},
   "outputs": [
    {
     "data": {
      "text/plain": [
       "{'fit_time': array([30.67922997, 29.41343498, 29.45373487]),\n",
       " 'score_time': array([35.60845423, 34.2730062 , 34.44156909]),\n",
       " 'test_precision': array([1.        , 0.92      , 0.91666667]),\n",
       " 'test_recall': array([0.08474576, 0.1299435 , 0.0625    ]),\n",
       " 'test_f1': array([0.15625   , 0.22772277, 0.11702128])}"
      ]
     },
     "execution_count": 59,
     "metadata": {},
     "output_type": "execute_result"
    }
   ],
   "source": [
    "startified_cv_results"
   ]
  },
  {
   "cell_type": "code",
   "execution_count": 60,
   "metadata": {},
   "outputs": [
    {
     "name": "stdout",
     "output_type": "stream",
     "text": [
      "test_f1 mean is: 0.16699801629099081\n"
     ]
    }
   ],
   "source": [
    "test_f1mean = statistics.mean(startified_cv_results['test_f1'])\n",
    "print(\"test_f1 mean is:\", test_f1mean)"
   ]
  },
  {
   "cell_type": "code",
   "execution_count": null,
   "metadata": {},
   "outputs": [],
   "source": []
  }
 ],
 "metadata": {
  "kernelspec": {
   "display_name": "Python 3",
   "language": "python",
   "name": "python3"
  },
  "language_info": {
   "codemirror_mode": {
    "name": "ipython",
    "version": 3
   },
   "file_extension": ".py",
   "mimetype": "text/x-python",
   "name": "python",
   "nbconvert_exporter": "python",
   "pygments_lexer": "ipython3",
   "version": "3.6.5"
  }
 },
 "nbformat": 4,
 "nbformat_minor": 2
}
