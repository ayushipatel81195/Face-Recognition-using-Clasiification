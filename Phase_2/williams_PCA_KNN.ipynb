{
 "cells": [
  {
   "cell_type": "code",
   "execution_count": 5,
   "metadata": {},
   "outputs": [],
   "source": [
    "import pandas as pd\n",
    "import numpy as np\n",
    "import statistics \n",
    "from sklearn.decomposition import PCA\n",
    "from sklearn.neighbors import KNeighborsClassifier\n",
    "from sklearn.model_selection import cross_validate, StratifiedKFold\n",
    "from sklearn.svm import SVC"
   ]
  },
  {
   "cell_type": "code",
   "execution_count": 6,
   "metadata": {},
   "outputs": [],
   "source": [
    "X = pd.read_csv(\"data/X.csv\", sep=' ', header=None, dtype=float)\n",
    "X = X.values"
   ]
  },
  {
   "cell_type": "code",
   "execution_count": 7,
   "metadata": {},
   "outputs": [],
   "source": [
    "y = pd.read_csv(\"data/y_bush_vs_others.csv\", header=None)\n",
    "y_bush = y.values.ravel()\n",
    "y = pd.read_csv(\"data/y_williams_vs_others.csv\", header=None)\n",
    "y_williams = y.values.ravel()"
   ]
  },
  {
   "cell_type": "code",
   "execution_count": 43,
   "metadata": {},
   "outputs": [
    {
     "name": "stdout",
     "output_type": "stream",
     "text": [
      "(13233, 57)\n"
     ]
    },
    {
     "data": {
      "text/plain": [
       "array([[ -6.17302394,  -1.83102506,  -0.68261825, ...,  -0.29798948,\n",
       "          0.06796575,  -0.44590706],\n",
       "       [ -8.74472615,  -1.06152081,   4.39499342, ...,  -0.13869334,\n",
       "         -0.72116532,  -0.3670797 ],\n",
       "       [ -5.58314778,   3.12191247,  -1.7346803 , ...,  -0.43830892,\n",
       "          0.72294596,  -0.40903581],\n",
       "       ...,\n",
       "       [-11.56278787,  -3.03118032,  -1.31590288, ...,   0.91702217,\n",
       "          0.42265581,   0.3769516 ],\n",
       "       [-12.96208132,  -3.61012008,   2.00276782, ...,   0.16407348,\n",
       "          0.80179917,   0.95452062],\n",
       "       [ -3.23516636,  -4.68425394,  -1.80796164, ...,  -0.29610225,\n",
       "          0.93325306,   0.33304448]])"
      ]
     },
     "execution_count": 43,
     "metadata": {},
     "output_type": "execute_result"
    }
   ],
   "source": [
    "pca = PCA(n_components=57)\n",
    "X_pca = pca.fit_transform(X)\n",
    "print(X_pca.shape)\n",
    "X_pca"
   ]
  },
  {
   "cell_type": "code",
   "execution_count": 44,
   "metadata": {},
   "outputs": [],
   "source": [
    "knn = KNeighborsClassifier(n_neighbors=1)"
   ]
  },
  {
   "cell_type": "code",
   "execution_count": 45,
   "metadata": {},
   "outputs": [],
   "source": [
    "startified_cv_results = cross_validate(knn, X_pca, y_williams, cv=StratifiedKFold(n_splits = 3, shuffle=True, random_state=7392), scoring=('precision', 'recall', 'f1'), return_train_score=False)"
   ]
  },
  {
   "cell_type": "code",
   "execution_count": 46,
   "metadata": {},
   "outputs": [
    {
     "data": {
      "text/plain": [
       "{'fit_time': array([0.03492975, 0.02242208, 0.02657318]),\n",
       " 'score_time': array([11.79662108, 11.19680476, 12.13619614]),\n",
       " 'test_precision': array([0.25      , 0.14285714, 0.41666667]),\n",
       " 'test_recall': array([0.11111111, 0.05882353, 0.29411765]),\n",
       " 'test_f1': array([0.15384615, 0.08333333, 0.34482759])}"
      ]
     },
     "execution_count": 46,
     "metadata": {},
     "output_type": "execute_result"
    }
   ],
   "source": [
    "startified_cv_results"
   ]
  },
  {
   "cell_type": "code",
   "execution_count": 47,
   "metadata": {},
   "outputs": [
    {
     "name": "stdout",
     "output_type": "stream",
     "text": [
      "fit_time mean is: 0.027975002924601238\n",
      "score_time mean is: 11.709873994191488\n",
      "test_precision mean is: 0.2698412698412698\n",
      "test_recall mean is: 0.15468409586056645\n",
      "test_f1 mean is: 0.19400235779546124\n"
     ]
    }
   ],
   "source": [
    "fit_timemean = statistics.mean(startified_cv_results['fit_time'])\n",
    "print(\"fit_time mean is:\", fit_timemean)\n",
    "score_timemean = statistics.mean(startified_cv_results['score_time'])\n",
    "print(\"score_time mean is:\", score_timemean)\n",
    "test_precisionmean = statistics.mean(startified_cv_results['test_precision'])\n",
    "print(\"test_precision mean is:\", test_precisionmean)\n",
    "test_recallmean = statistics.mean(startified_cv_results['test_recall'])\n",
    "print(\"test_recall mean is:\", test_recallmean)\n",
    "test_f1mean = statistics.mean(startified_cv_results['test_f1'])\n",
    "print(\"test_f1 mean is:\", test_f1mean)"
   ]
  },
  {
   "cell_type": "code",
   "execution_count": null,
   "metadata": {},
   "outputs": [],
   "source": []
  }
 ],
 "metadata": {
  "kernelspec": {
   "display_name": "Python 3",
   "language": "python",
   "name": "python3"
  },
  "language_info": {
   "codemirror_mode": {
    "name": "ipython",
    "version": 3
   },
   "file_extension": ".py",
   "mimetype": "text/x-python",
   "name": "python",
   "nbconvert_exporter": "python",
   "pygments_lexer": "ipython3",
   "version": "3.6.5"
  }
 },
 "nbformat": 4,
 "nbformat_minor": 2
}
