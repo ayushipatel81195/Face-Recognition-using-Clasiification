{
 "cells": [
  {
   "cell_type": "code",
   "execution_count": 10,
   "metadata": {},
   "outputs": [],
   "source": [
    "import pandas as pd\n",
    "import numpy as np\n",
    "import statistics \n",
    "from sklearn.decomposition import PCA\n",
    "from sklearn.neighbors import KNeighborsClassifier\n",
    "from sklearn.model_selection import cross_validate, StratifiedKFold\n",
    "from sklearn.svm import SVC"
   ]
  },
  {
   "cell_type": "code",
   "execution_count": 11,
   "metadata": {},
   "outputs": [],
   "source": [
    "X = pd.read_csv(\"data/X.csv\", sep=' ', header=None, dtype=float)\n",
    "X = X.values"
   ]
  },
  {
   "cell_type": "code",
   "execution_count": 12,
   "metadata": {},
   "outputs": [],
   "source": [
    "y = pd.read_csv(\"data/y_bush_vs_others.csv\", header=None)\n",
    "y_bush = y.values.ravel()\n",
    "y = pd.read_csv(\"data/y_williams_vs_others.csv\", header=None)\n",
    "y_williams = y.values.ravel()"
   ]
  },
  {
   "cell_type": "code",
   "execution_count": 23,
   "metadata": {},
   "outputs": [
    {
     "name": "stdout",
     "output_type": "stream",
     "text": [
      "(13233, 200)\n"
     ]
    },
    {
     "data": {
      "text/plain": [
       "array([[-6.17302394e+00, -1.83102506e+00, -6.82618249e-01, ...,\n",
       "        -1.30368503e-01, -3.59412883e-01,  3.49966236e-02],\n",
       "       [-8.74472615e+00, -1.06152081e+00,  4.39499342e+00, ...,\n",
       "        -1.44087743e-02,  6.26850148e-01,  6.24615189e-02],\n",
       "       [-5.58314778e+00,  3.12191247e+00, -1.73468030e+00, ...,\n",
       "        -3.97165495e-01, -4.92771709e-02, -1.96563395e-01],\n",
       "       ...,\n",
       "       [-1.15627879e+01, -3.03118032e+00, -1.31590288e+00, ...,\n",
       "        -1.14679423e-03,  4.09424682e-02, -1.54766230e-01],\n",
       "       [-1.29620813e+01, -3.61012008e+00,  2.00276782e+00, ...,\n",
       "        -1.40867499e-01, -8.85171369e-03,  1.43944658e-01],\n",
       "       [-3.23516636e+00, -4.68425394e+00, -1.80796164e+00, ...,\n",
       "        -2.15544892e-01, -2.43388095e-01,  6.88200345e-01]])"
      ]
     },
     "execution_count": 23,
     "metadata": {},
     "output_type": "execute_result"
    }
   ],
   "source": [
    "pca = PCA(n_components=200)\n",
    "X_pca = pca.fit_transform(X)\n",
    "print(X_pca.shape)\n",
    "X_pca"
   ]
  },
  {
   "cell_type": "code",
   "execution_count": 24,
   "metadata": {},
   "outputs": [],
   "source": [
    "knn = KNeighborsClassifier(n_neighbors=1)"
   ]
  },
  {
   "cell_type": "code",
   "execution_count": 25,
   "metadata": {},
   "outputs": [],
   "source": [
    "startified_cv_results = cross_validate(knn, X_pca, y_bush, cv=StratifiedKFold(n_splits = 3, shuffle=True, random_state=7392), scoring=('precision', 'recall', 'f1'), return_train_score=False)"
   ]
  },
  {
   "cell_type": "code",
   "execution_count": 26,
   "metadata": {},
   "outputs": [
    {
     "data": {
      "text/plain": [
       "{'fit_time': array([0.18316126, 0.07496619, 0.07541418]),\n",
       " 'score_time': array([57.16384673, 37.5690248 , 36.6364851 ]),\n",
       " 'test_precision': array([0.16923077, 0.10752688, 0.13265306]),\n",
       " 'test_recall': array([0.18644068, 0.11299435, 0.14772727]),\n",
       " 'test_f1': array([0.17741935, 0.11019284, 0.13978495])}"
      ]
     },
     "execution_count": 26,
     "metadata": {},
     "output_type": "execute_result"
    }
   ],
   "source": [
    "startified_cv_results"
   ]
  },
  {
   "cell_type": "code",
   "execution_count": 27,
   "metadata": {},
   "outputs": [
    {
     "name": "stdout",
     "output_type": "stream",
     "text": [
      "fit_time mean is: 0.11118054389953613\n",
      "score_time mean is: 43.78978554407755\n",
      "test_precision mean is: 0.1364702373918964\n",
      "test_recall mean is: 0.14905410032528676\n",
      "test_f1 mean is: 0.1424657128469445\n"
     ]
    }
   ],
   "source": [
    "fit_timemean = statistics.mean(startified_cv_results['fit_time'])\n",
    "print(\"fit_time mean is:\", fit_timemean)\n",
    "score_timemean = statistics.mean(startified_cv_results['score_time'])\n",
    "print(\"score_time mean is:\", score_timemean)\n",
    "test_precisionmean = statistics.mean(startified_cv_results['test_precision'])\n",
    "print(\"test_precision mean is:\", test_precisionmean)\n",
    "test_recallmean = statistics.mean(startified_cv_results['test_recall'])\n",
    "print(\"test_recall mean is:\", test_recallmean)\n",
    "test_f1mean = statistics.mean(startified_cv_results['test_f1'])\n",
    "print(\"test_f1 mean is:\", test_f1mean)"
   ]
  },
  {
   "cell_type": "code",
   "execution_count": null,
   "metadata": {},
   "outputs": [],
   "source": []
  }
 ],
 "metadata": {
  "kernelspec": {
   "display_name": "Python 3",
   "language": "python",
   "name": "python3"
  },
  "language_info": {
   "codemirror_mode": {
    "name": "ipython",
    "version": 3
   },
   "file_extension": ".py",
   "mimetype": "text/x-python",
   "name": "python",
   "nbconvert_exporter": "python",
   "pygments_lexer": "ipython3",
   "version": "3.6.5"
  }
 },
 "nbformat": 4,
 "nbformat_minor": 2
}
