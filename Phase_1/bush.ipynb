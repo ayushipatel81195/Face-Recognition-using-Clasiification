{
 "cells": [
  {
   "cell_type": "code",
   "execution_count": 17,
   "metadata": {},
   "outputs": [],
   "source": [
    "import pandas as pd\n",
    "import numpy as np\n",
    "import statistics \n",
    "from sklearn.neighbors import KNeighborsClassifier\n",
    "from sklearn.model_selection import cross_validate, StratifiedKFold\n",
    "from sklearn.svm import SVC"
   ]
  },
  {
   "cell_type": "code",
   "execution_count": 18,
   "metadata": {},
   "outputs": [],
   "source": [
    "X = pd.read_csv(\"data/X.csv\", sep=' ', header=None, dtype=float)\n",
    "X = X.values"
   ]
  },
  {
   "cell_type": "code",
   "execution_count": 19,
   "metadata": {},
   "outputs": [],
   "source": [
    "y = pd.read_csv(\"data/y_bush_vs_others.csv\", header=None)\n",
    "y_bush = y.values.ravel()\n",
    "y = pd.read_csv(\"data/y_williams_vs_others.csv\", header=None)\n",
    "y_williams = y.values.ravel()"
   ]
  },
  {
   "cell_type": "code",
   "execution_count": 20,
   "metadata": {},
   "outputs": [
    {
     "data": {
      "text/plain": [
       "(13233, 4096)"
      ]
     },
     "execution_count": 20,
     "metadata": {},
     "output_type": "execute_result"
    }
   ],
   "source": [
    "X.shape"
   ]
  },
  {
   "cell_type": "code",
   "execution_count": 21,
   "metadata": {},
   "outputs": [
    {
     "data": {
      "text/plain": [
       "530"
      ]
     },
     "execution_count": 21,
     "metadata": {},
     "output_type": "execute_result"
    }
   ],
   "source": [
    "np.sum(y_bush)"
   ]
  },
  {
   "cell_type": "code",
   "execution_count": 22,
   "metadata": {},
   "outputs": [
    {
     "data": {
      "text/plain": [
       "52"
      ]
     },
     "execution_count": 22,
     "metadata": {},
     "output_type": "execute_result"
    }
   ],
   "source": [
    "np.sum(y_williams)"
   ]
  },
  {
   "cell_type": "code",
   "execution_count": 23,
   "metadata": {},
   "outputs": [
    {
     "data": {
      "text/plain": [
       "(13233,)"
      ]
     },
     "execution_count": 23,
     "metadata": {},
     "output_type": "execute_result"
    }
   ],
   "source": [
    "y_bush.shape"
   ]
  },
  {
   "cell_type": "code",
   "execution_count": 24,
   "metadata": {},
   "outputs": [],
   "source": [
    "knn = KNeighborsClassifier(n_neighbors=1)"
   ]
  },
  {
   "cell_type": "code",
   "execution_count": 25,
   "metadata": {},
   "outputs": [],
   "source": [
    "startified_cv_results = cross_validate(knn, X, y_bush, cv=StratifiedKFold(n_splits = 3, shuffle=True, random_state=7392), scoring=('precision', 'recall', 'f1'), return_train_score=False)"
   ]
  },
  {
   "cell_type": "code",
   "execution_count": 26,
   "metadata": {},
   "outputs": [
    {
     "data": {
      "text/plain": [
       "{'fit_time': array([5.40908599, 5.03097796, 4.99072194]),\n",
       " 'score_time': array([841.52749586, 808.440485  , 833.14367104]),\n",
       " 'test_precision': array([0.19135802, 0.10857143, 0.1299435 ]),\n",
       " 'test_recall': array([0.17514124, 0.10734463, 0.13068182]),\n",
       " 'test_f1': array([0.18289086, 0.10795455, 0.13031161])}"
      ]
     },
     "execution_count": 26,
     "metadata": {},
     "output_type": "execute_result"
    }
   ],
   "source": [
    "startified_cv_results"
   ]
  },
  {
   "cell_type": "code",
   "execution_count": 27,
   "metadata": {},
   "outputs": [
    {
     "name": "stdout",
     "output_type": "stream",
     "text": [
      "fit_time mean is: 5.143595298131307\n",
      "score_time mean is: 827.7038839658102\n",
      "test_precision mean is: 0.14329098536254845\n",
      "test_recall mean is: 0.1377225646293443\n",
      "test_f1 mean is: 0.14038567188088358\n"
     ]
    }
   ],
   "source": [
    "fit_timemean = statistics.mean(startified_cv_results['fit_time'])\n",
    "print(\"fit_time mean is:\", fit_timemean)\n",
    "score_timemean = statistics.mean(startified_cv_results['score_time'])\n",
    "print(\"score_time mean is:\", score_timemean)\n",
    "test_precisionmean = statistics.mean(startified_cv_results['test_precision'])\n",
    "print(\"test_precision mean is:\", test_precisionmean)\n",
    "test_recallmean = statistics.mean(startified_cv_results['test_recall'])\n",
    "print(\"test_recall mean is:\", test_recallmean)\n",
    "test_f1mean = statistics.mean(startified_cv_results['test_f1'])\n",
    "print(\"test_f1 mean is:\", test_f1mean)"
   ]
  },
  {
   "cell_type": "code",
   "execution_count": 29,
   "metadata": {},
   "outputs": [],
   "source": [
    "knn = KNeighborsClassifier(n_neighbors=3)"
   ]
  },
  {
   "cell_type": "code",
   "execution_count": 30,
   "metadata": {},
   "outputs": [],
   "source": [
    "startified_cv_results = cross_validate(knn, X, y_bush, cv=StratifiedKFold(n_splits = 3, shuffle=True, random_state=7392), scoring=('precision', 'recall', 'f1'), return_train_score=False)"
   ]
  },
  {
   "cell_type": "code",
   "execution_count": 31,
   "metadata": {},
   "outputs": [
    {
     "data": {
      "text/plain": [
       "{'fit_time': array([6.5154202 , 5.52433205, 5.82914495]),\n",
       " 'score_time': array([808.20556283, 870.69530129, 840.76913714]),\n",
       " 'test_precision': array([0.26923077, 0.22580645, 0.09090909]),\n",
       " 'test_recall': array([0.03954802, 0.03954802, 0.02272727]),\n",
       " 'test_f1': array([0.06896552, 0.06730769, 0.03636364])}"
      ]
     },
     "execution_count": 31,
     "metadata": {},
     "output_type": "execute_result"
    }
   ],
   "source": [
    "startified_cv_results"
   ]
  },
  {
   "cell_type": "code",
   "execution_count": 32,
   "metadata": {},
   "outputs": [
    {
     "name": "stdout",
     "output_type": "stream",
     "text": [
      "fit_time mean is: 5.956299066543579\n",
      "score_time mean is: 839.8900004227957\n",
      "test_precision mean is: 0.19531543725092113\n",
      "test_recall mean is: 0.033941105975004285\n",
      "test_f1 mean is: 0.05754561530423599\n"
     ]
    }
   ],
   "source": [
    "fit_timemean = statistics.mean(startified_cv_results['fit_time'])\n",
    "print(\"fit_time mean is:\", fit_timemean)\n",
    "score_timemean = statistics.mean(startified_cv_results['score_time'])\n",
    "print(\"score_time mean is:\", score_timemean)\n",
    "test_precisionmean = statistics.mean(startified_cv_results['test_precision'])\n",
    "print(\"test_precision mean is:\", test_precisionmean)\n",
    "test_recallmean = statistics.mean(startified_cv_results['test_recall'])\n",
    "print(\"test_recall mean is:\", test_recallmean)\n",
    "test_f1mean = statistics.mean(startified_cv_results['test_f1'])\n",
    "print(\"test_f1 mean is:\", test_f1mean)"
   ]
  },
  {
   "cell_type": "code",
   "execution_count": 33,
   "metadata": {},
   "outputs": [],
   "source": [
    "knn = KNeighborsClassifier(n_neighbors=5)"
   ]
  },
  {
   "cell_type": "code",
   "execution_count": 34,
   "metadata": {},
   "outputs": [],
   "source": [
    "startified_cv_results = cross_validate(knn, X, y_bush, cv=StratifiedKFold(n_splits = 3, shuffle=True, random_state=7392), scoring=('precision', 'recall', 'f1'), return_train_score=False)"
   ]
  },
  {
   "cell_type": "code",
   "execution_count": 35,
   "metadata": {},
   "outputs": [
    {
     "data": {
      "text/plain": [
       "{'fit_time': array([5.80563498, 4.81308889, 4.67249894]),\n",
       " 'score_time': array([765.92551994, 802.0954349 , 755.14202189]),\n",
       " 'test_precision': array([0.25      , 0.22222222, 0.15384615]),\n",
       " 'test_recall': array([0.00564972, 0.01129944, 0.01136364]),\n",
       " 'test_f1': array([0.01104972, 0.02150538, 0.02116402])}"
      ]
     },
     "execution_count": 35,
     "metadata": {},
     "output_type": "execute_result"
    }
   ],
   "source": [
    "startified_cv_results"
   ]
  },
  {
   "cell_type": "code",
   "execution_count": 36,
   "metadata": {
    "scrolled": true
   },
   "outputs": [
    {
     "name": "stdout",
     "output_type": "stream",
     "text": [
      "fit_time mean is: 5.097074270248413\n",
      "score_time mean is: 774.3876589139303\n",
      "test_precision mean is: 0.20868945868945868\n",
      "test_recall mean is: 0.009437596302003082\n",
      "test_f1 mean is: 0.01790637375500442\n"
     ]
    }
   ],
   "source": [
    "fit_timemean = statistics.mean(startified_cv_results['fit_time'])\n",
    "print(\"fit_time mean is:\", fit_timemean)\n",
    "score_timemean = statistics.mean(startified_cv_results['score_time'])\n",
    "print(\"score_time mean is:\", score_timemean)\n",
    "test_precisionmean = statistics.mean(startified_cv_results['test_precision'])\n",
    "print(\"test_precision mean is:\", test_precisionmean)\n",
    "test_recallmean = statistics.mean(startified_cv_results['test_recall'])\n",
    "print(\"test_recall mean is:\", test_recallmean)\n",
    "test_f1mean = statistics.mean(startified_cv_results['test_f1'])\n",
    "print(\"test_f1 mean is:\", test_f1mean)"
   ]
  },
  {
   "cell_type": "code",
   "execution_count": 41,
   "metadata": {},
   "outputs": [],
   "source": [
    "svc1 = SVC(C = 1.0, kernel = 'linear')"
   ]
  },
  {
   "cell_type": "code",
   "execution_count": 42,
   "metadata": {},
   "outputs": [],
   "source": [
    "startified_cv_results = cross_validate(svc1, X, y_bush, cv=StratifiedKFold(n_splits = 3, shuffle=True, random_state=7392), scoring=('precision', 'recall', 'f1'), return_train_score=False)"
   ]
  },
  {
   "cell_type": "code",
   "execution_count": 43,
   "metadata": {},
   "outputs": [
    {
     "data": {
      "text/plain": [
       "{'fit_time': array([57.39948487, 53.53414202, 52.83430004]),\n",
       " 'score_time': array([57.60457015, 56.41613102, 54.04669714]),\n",
       " 'test_precision': array([0.66887417, 0.65100671, 0.67375887]),\n",
       " 'test_recall': array([0.57062147, 0.5480226 , 0.53977273]),\n",
       " 'test_f1': array([0.61585366, 0.59509202, 0.59936909])}"
      ]
     },
     "execution_count": 43,
     "metadata": {},
     "output_type": "execute_result"
    }
   ],
   "source": [
    "startified_cv_results"
   ]
  },
  {
   "cell_type": "code",
   "execution_count": 53,
   "metadata": {},
   "outputs": [],
   "source": [
    "svc2 = SVC(C = 0.001235, kernel = 'linear')"
   ]
  },
  {
   "cell_type": "code",
   "execution_count": 54,
   "metadata": {},
   "outputs": [
    {
     "name": "stderr",
     "output_type": "stream",
     "text": [
      "/Users/ayushi/anaconda3/lib/python3.6/site-packages/sklearn/metrics/classification.py:1135: UndefinedMetricWarning: Precision is ill-defined and being set to 0.0 due to no predicted samples.\n",
      "  'precision', 'predicted', average, warn_for)\n",
      "/Users/ayushi/anaconda3/lib/python3.6/site-packages/sklearn/metrics/classification.py:1135: UndefinedMetricWarning: F-score is ill-defined and being set to 0.0 due to no predicted samples.\n",
      "  'precision', 'predicted', average, warn_for)\n",
      "/Users/ayushi/anaconda3/lib/python3.6/site-packages/sklearn/metrics/classification.py:1135: UndefinedMetricWarning: Precision is ill-defined and being set to 0.0 due to no predicted samples.\n",
      "  'precision', 'predicted', average, warn_for)\n",
      "/Users/ayushi/anaconda3/lib/python3.6/site-packages/sklearn/metrics/classification.py:1135: UndefinedMetricWarning: F-score is ill-defined and being set to 0.0 due to no predicted samples.\n",
      "  'precision', 'predicted', average, warn_for)\n",
      "/Users/ayushi/anaconda3/lib/python3.6/site-packages/sklearn/metrics/classification.py:1135: UndefinedMetricWarning: Precision is ill-defined and being set to 0.0 due to no predicted samples.\n",
      "  'precision', 'predicted', average, warn_for)\n",
      "/Users/ayushi/anaconda3/lib/python3.6/site-packages/sklearn/metrics/classification.py:1135: UndefinedMetricWarning: F-score is ill-defined and being set to 0.0 due to no predicted samples.\n",
      "  'precision', 'predicted', average, warn_for)\n"
     ]
    }
   ],
   "source": [
    "startified_cv_results = cross_validate(svc2, X, y_bush, cv=StratifiedKFold(n_splits = 3, shuffle=True, random_state=7392), scoring=('precision', 'recall', 'f1'), return_train_score=False)"
   ]
  },
  {
   "cell_type": "code",
   "execution_count": 55,
   "metadata": {},
   "outputs": [
    {
     "data": {
      "text/plain": [
       "{'fit_time': array([50.37645221, 48.55882788, 48.42336893]),\n",
       " 'score_time': array([59.88596201, 57.668046  , 57.39692903]),\n",
       " 'test_precision': array([0., 0., 0.]),\n",
       " 'test_recall': array([0., 0., 0.]),\n",
       " 'test_f1': array([0., 0., 0.])}"
      ]
     },
     "execution_count": 55,
     "metadata": {},
     "output_type": "execute_result"
    }
   ],
   "source": [
    "startified_cv_results"
   ]
  },
  {
   "cell_type": "code",
   "execution_count": 56,
   "metadata": {},
   "outputs": [],
   "source": [
    "svc3 = SVC(C = 0.0199, kernel = 'linear')"
   ]
  },
  {
   "cell_type": "code",
   "execution_count": 57,
   "metadata": {},
   "outputs": [],
   "source": [
    "startified_cv_results = cross_validate(svc3, X, y_bush, cv=StratifiedKFold(n_splits = 3, shuffle=True, random_state=7392), scoring=('precision', 'recall', 'f1'), return_train_score=False)"
   ]
  },
  {
   "cell_type": "code",
   "execution_count": 58,
   "metadata": {},
   "outputs": [
    {
     "data": {
      "text/plain": [
       "{'fit_time': array([56.61534381, 49.95616579, 52.51458526]),\n",
       " 'score_time': array([59.75996828, 56.6638689 , 59.01735282]),\n",
       " 'test_precision': array([0.96923077, 0.93650794, 0.9375    ]),\n",
       " 'test_recall': array([0.3559322 , 0.33333333, 0.34090909]),\n",
       " 'test_f1': array([0.52066116, 0.49166667, 0.5       ])}"
      ]
     },
     "execution_count": 58,
     "metadata": {},
     "output_type": "execute_result"
    }
   ],
   "source": [
    "startified_cv_results"
   ]
  },
  {
   "cell_type": "code",
   "execution_count": 59,
   "metadata": {},
   "outputs": [],
   "source": [
    "svc4 = SVC(C = 0.05678, kernel = 'linear')"
   ]
  },
  {
   "cell_type": "code",
   "execution_count": 60,
   "metadata": {},
   "outputs": [],
   "source": [
    "startified_cv_results = cross_validate(svc4, X, y_bush, cv=StratifiedKFold(n_splits = 3, shuffle=True, random_state=7392), scoring=('precision', 'recall', 'f1'), return_train_score=False)"
   ]
  },
  {
   "cell_type": "code",
   "execution_count": 61,
   "metadata": {},
   "outputs": [
    {
     "data": {
      "text/plain": [
       "{'fit_time': array([65.16959   , 52.42809892, 52.90501094]),\n",
       " 'score_time': array([59.81352329, 55.85672808, 56.46299481]),\n",
       " 'test_precision': array([0.86363636, 0.81132075, 0.8317757 ]),\n",
       " 'test_recall': array([0.53672316, 0.48587571, 0.50568182]),\n",
       " 'test_f1': array([0.66202091, 0.60777385, 0.62897527])}"
      ]
     },
     "execution_count": 61,
     "metadata": {},
     "output_type": "execute_result"
    }
   ],
   "source": [
    "startified_cv_results"
   ]
  },
  {
   "cell_type": "code",
   "execution_count": 62,
   "metadata": {},
   "outputs": [],
   "source": [
    "svc5 = SVC(C = 0.08465, kernel = 'linear')"
   ]
  },
  {
   "cell_type": "code",
   "execution_count": 63,
   "metadata": {},
   "outputs": [],
   "source": [
    "startified_cv_results = cross_validate(svc5, X, y_bush, cv=StratifiedKFold(n_splits = 3, shuffle=True, random_state=7392), scoring=('precision', 'recall', 'f1'), return_train_score=False)"
   ]
  },
  {
   "cell_type": "code",
   "execution_count": 64,
   "metadata": {},
   "outputs": [
    {
     "data": {
      "text/plain": [
       "{'fit_time': array([56.63718104, 54.05427313, 53.36215878]),\n",
       " 'score_time': array([59.09393978, 56.50745797, 63.58319402]),\n",
       " 'test_precision': array([0.808     , 0.78947368, 0.79661017]),\n",
       " 'test_recall': array([0.57062147, 0.50847458, 0.53409091]),\n",
       " 'test_f1': array([0.66887417, 0.6185567 , 0.63945578])}"
      ]
     },
     "execution_count": 64,
     "metadata": {},
     "output_type": "execute_result"
    }
   ],
   "source": [
    "startified_cv_results"
   ]
  },
  {
   "cell_type": "code",
   "execution_count": 65,
   "metadata": {},
   "outputs": [],
   "source": [
    "svc6 = SVC(C = 0.12345, kernel = 'linear')"
   ]
  },
  {
   "cell_type": "code",
   "execution_count": 66,
   "metadata": {},
   "outputs": [],
   "source": [
    "startified_cv_results = cross_validate(svc6, X, y_bush, cv=StratifiedKFold(n_splits = 3, shuffle=True, random_state=7392), scoring=('precision', 'recall', 'f1'), return_train_score=False)"
   ]
  },
  {
   "cell_type": "code",
   "execution_count": 67,
   "metadata": {},
   "outputs": [
    {
     "data": {
      "text/plain": [
       "{'fit_time': array([61.31594491, 54.72067785, 55.0203228 ]),\n",
       " 'score_time': array([59.16662598, 56.88425016, 56.33560109]),\n",
       " 'test_precision': array([0.73529412, 0.75630252, 0.77235772]),\n",
       " 'test_recall': array([0.56497175, 0.50847458, 0.53977273]),\n",
       " 'test_f1': array([0.63897764, 0.60810811, 0.63545151])}"
      ]
     },
     "execution_count": 67,
     "metadata": {},
     "output_type": "execute_result"
    }
   ],
   "source": [
    "startified_cv_results"
   ]
  },
  {
   "cell_type": "code",
   "execution_count": 95,
   "metadata": {},
   "outputs": [],
   "source": [
    "svc7 = SVC(C = 1, kernel = 'poly', degree=300, coef0=100)"
   ]
  },
  {
   "cell_type": "code",
   "execution_count": 96,
   "metadata": {},
   "outputs": [],
   "source": [
    "startified_cv_results = cross_validate(svc7, X, y_bush, cv=StratifiedKFold(n_splits = 3, shuffle=True, random_state=7392), scoring=('precision', 'recall', 'f1'), return_train_score=False)"
   ]
  },
  {
   "cell_type": "code",
   "execution_count": 97,
   "metadata": {},
   "outputs": [
    {
     "data": {
      "text/plain": [
       "{'fit_time': array([2.11193299, 2.14189792, 2.10933089]),\n",
       " 'score_time': array([0.03586411, 0.03668308, 0.03565907]),\n",
       " 'test_precision': array([0.04011786, 0.04012696, 0.0399093 ]),\n",
       " 'test_recall': array([1., 1., 1.]),\n",
       " 'test_f1': array([0.07714099, 0.0771578 , 0.07675534])}"
      ]
     },
     "execution_count": 97,
     "metadata": {},
     "output_type": "execute_result"
    }
   ],
   "source": [
    "startified_cv_results"
   ]
  },
  {
   "cell_type": "code",
   "execution_count": 86,
   "metadata": {},
   "outputs": [],
   "source": [
    "svc8 = SVC(C = 9999900, kernel = 'poly', degree=3)"
   ]
  },
  {
   "cell_type": "code",
   "execution_count": 87,
   "metadata": {},
   "outputs": [],
   "source": [
    "startified_cv_results = cross_validate(svc8, X, y_bush, cv=StratifiedKFold(n_splits = 3, shuffle=True, random_state=7392), scoring=('precision', 'recall', 'f1'), return_train_score=False)"
   ]
  },
  {
   "cell_type": "code",
   "execution_count": 88,
   "metadata": {},
   "outputs": [
    {
     "data": {
      "text/plain": [
       "{'fit_time': array([61.87670016, 61.68808413, 63.68197298]),\n",
       " 'score_time': array([83.31823897, 80.42434406, 85.82167602]),\n",
       " 'test_precision': array([0.71794872, 0.64347826, 0.66346154]),\n",
       " 'test_recall': array([0.47457627, 0.4180791 , 0.39204545]),\n",
       " 'test_f1': array([0.57142857, 0.50684932, 0.49285714])}"
      ]
     },
     "execution_count": 88,
     "metadata": {},
     "output_type": "execute_result"
    }
   ],
   "source": [
    "startified_cv_results"
   ]
  },
  {
   "cell_type": "code",
   "execution_count": 98,
   "metadata": {},
   "outputs": [],
   "source": [
    "svc9 = SVC(C = 100, kernel = 'poly', degree=3, coef0=1)"
   ]
  },
  {
   "cell_type": "code",
   "execution_count": 99,
   "metadata": {},
   "outputs": [],
   "source": [
    "startified_cv_results = cross_validate(svc9, X, y_bush, cv=StratifiedKFold(n_splits = 3, shuffle=True, random_state=7392), scoring=('precision', 'recall', 'f1'), return_train_score=False)"
   ]
  },
  {
   "cell_type": "code",
   "execution_count": 100,
   "metadata": {},
   "outputs": [
    {
     "data": {
      "text/plain": [
       "{'fit_time': array([59.23813605, 56.15270615, 55.172333  ]),\n",
       " 'score_time': array([72.7010181 , 66.58980393, 64.87317395]),\n",
       " 'test_precision': array([0.86607143, 0.75206612, 0.77777778]),\n",
       " 'test_recall': array([0.5480226 , 0.51412429, 0.51704545]),\n",
       " 'test_f1': array([0.67128028, 0.61073826, 0.62116041])}"
      ]
     },
     "execution_count": 100,
     "metadata": {},
     "output_type": "execute_result"
    }
   ],
   "source": [
    "startified_cv_results"
   ]
  },
  {
   "cell_type": "code",
   "execution_count": null,
   "metadata": {},
   "outputs": [],
   "source": [
    "svc10 = SVC(C = 10, kernel = 'poly', degree=3, coef0=1)"
   ]
  },
  {
   "cell_type": "code",
   "execution_count": null,
   "metadata": {},
   "outputs": [],
   "source": [
    "startified_cv_results = cross_validate(svc10, X, y_bush, cv=StratifiedKFold(n_splits = 3, shuffle=True, random_state=7392), scoring=('precision', 'recall', 'f1'), return_train_score=False)"
   ]
  },
  {
   "cell_type": "code",
   "execution_count": null,
   "metadata": {},
   "outputs": [],
   "source": [
    "startified_cv_results"
   ]
  },
  {
   "cell_type": "code",
   "execution_count": null,
   "metadata": {},
   "outputs": [],
   "source": []
  }
 ],
 "metadata": {
  "kernelspec": {
   "display_name": "Python 3",
   "language": "python",
   "name": "python3"
  },
  "language_info": {
   "codemirror_mode": {
    "name": "ipython",
    "version": 3
   },
   "file_extension": ".py",
   "mimetype": "text/x-python",
   "name": "python",
   "nbconvert_exporter": "python",
   "pygments_lexer": "ipython3",
   "version": "3.6.5"
  }
 },
 "nbformat": 4,
 "nbformat_minor": 2
}
