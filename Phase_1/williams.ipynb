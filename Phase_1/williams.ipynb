{
 "cells": [
  {
   "cell_type": "code",
   "execution_count": 1,
   "metadata": {},
   "outputs": [],
   "source": [
    "import pandas as pd\n",
    "import numpy as np\n",
    "import statistics \n",
    "from sklearn.neighbors import KNeighborsClassifier\n",
    "from sklearn.model_selection import cross_validate, StratifiedKFold\n",
    "from sklearn.svm import SVC"
   ]
  },
  {
   "cell_type": "code",
   "execution_count": 2,
   "metadata": {},
   "outputs": [],
   "source": [
    "X = pd.read_csv(\"data/X.csv\", sep=' ', header=None, dtype=float)\n",
    "X = X.values"
   ]
  },
  {
   "cell_type": "code",
   "execution_count": 3,
   "metadata": {},
   "outputs": [],
   "source": [
    "y = pd.read_csv(\"data/y_bush_vs_others.csv\", header=None)\n",
    "y_bush = y.values.ravel()\n",
    "y = pd.read_csv(\"data/y_williams_vs_others.csv\", header=None)\n",
    "y_williams = y.values.ravel()"
   ]
  },
  {
   "cell_type": "code",
   "execution_count": 4,
   "metadata": {},
   "outputs": [
    {
     "data": {
      "text/plain": [
       "(13233, 4096)"
      ]
     },
     "execution_count": 4,
     "metadata": {},
     "output_type": "execute_result"
    }
   ],
   "source": [
    "X.shape"
   ]
  },
  {
   "cell_type": "code",
   "execution_count": 5,
   "metadata": {},
   "outputs": [
    {
     "data": {
      "text/plain": [
       "530"
      ]
     },
     "execution_count": 5,
     "metadata": {},
     "output_type": "execute_result"
    }
   ],
   "source": [
    "np.sum(y_bush)"
   ]
  },
  {
   "cell_type": "code",
   "execution_count": 6,
   "metadata": {},
   "outputs": [
    {
     "data": {
      "text/plain": [
       "52"
      ]
     },
     "execution_count": 6,
     "metadata": {},
     "output_type": "execute_result"
    }
   ],
   "source": [
    "np.sum(y_williams)"
   ]
  },
  {
   "cell_type": "code",
   "execution_count": 7,
   "metadata": {},
   "outputs": [
    {
     "data": {
      "text/plain": [
       "(13233,)"
      ]
     },
     "execution_count": 7,
     "metadata": {},
     "output_type": "execute_result"
    }
   ],
   "source": [
    "y_williams.shape"
   ]
  },
  {
   "cell_type": "code",
   "execution_count": 8,
   "metadata": {},
   "outputs": [],
   "source": [
    "knn = KNeighborsClassifier(n_neighbors=1)"
   ]
  },
  {
   "cell_type": "code",
   "execution_count": 9,
   "metadata": {},
   "outputs": [],
   "source": [
    "startified_cv_results = cross_validate(knn, X, y_williams, cv=StratifiedKFold(n_splits = 3, shuffle=True, random_state=7392), scoring=('precision', 'recall', 'f1'), return_train_score=False)"
   ]
  },
  {
   "cell_type": "code",
   "execution_count": 10,
   "metadata": {},
   "outputs": [
    {
     "data": {
      "text/plain": [
       "{'fit_time': array([5.34192014, 4.83722806, 5.31970692]),\n",
       " 'score_time': array([771.88136172, 770.0559721 , 789.46003294]),\n",
       " 'test_precision': array([0.33333333, 0.5       , 0.57142857]),\n",
       " 'test_recall': array([0.11111111, 0.05882353, 0.23529412]),\n",
       " 'test_f1': array([0.16666667, 0.10526316, 0.33333333])}"
      ]
     },
     "execution_count": 10,
     "metadata": {},
     "output_type": "execute_result"
    }
   ],
   "source": [
    "startified_cv_results"
   ]
  },
  {
   "cell_type": "code",
   "execution_count": 16,
   "metadata": {},
   "outputs": [
    {
     "name": "stdout",
     "output_type": "stream",
     "text": [
      "fit_time mean is: 5.166285037994385\n",
      "score_time mean is: 777.1324555873871\n",
      "test_precision mean is: 0.46825396825396826\n",
      "test_recall mean is: 0.13507625272331153\n",
      "test_f1 mean is: 0.20175438596491227\n"
     ]
    }
   ],
   "source": [
    "fit_timemean = statistics.mean(startified_cv_results['fit_time'])\n",
    "print(\"fit_time mean is:\", fit_timemean)\n",
    "score_timemean = statistics.mean(startified_cv_results['score_time'])\n",
    "print(\"score_time mean is:\", score_timemean)\n",
    "test_precisionmean = statistics.mean(startified_cv_results['test_precision'])\n",
    "print(\"test_precision mean is:\", test_precisionmean)\n",
    "test_recallmean = statistics.mean(startified_cv_results['test_recall'])\n",
    "print(\"test_recall mean is:\", test_recallmean)\n",
    "test_f1mean = statistics.mean(startified_cv_results['test_f1'])\n",
    "print(\"test_f1 mean is:\", test_f1mean)"
   ]
  },
  {
   "cell_type": "code",
   "execution_count": 17,
   "metadata": {},
   "outputs": [],
   "source": [
    "knn = KNeighborsClassifier(n_neighbors=3)"
   ]
  },
  {
   "cell_type": "code",
   "execution_count": 18,
   "metadata": {
    "scrolled": false
   },
   "outputs": [
    {
     "name": "stderr",
     "output_type": "stream",
     "text": [
      "/Users/ayushi/anaconda3/lib/python3.6/site-packages/sklearn/metrics/classification.py:1135: UndefinedMetricWarning: Precision is ill-defined and being set to 0.0 due to no predicted samples.\n",
      "  'precision', 'predicted', average, warn_for)\n",
      "/Users/ayushi/anaconda3/lib/python3.6/site-packages/sklearn/metrics/classification.py:1135: UndefinedMetricWarning: F-score is ill-defined and being set to 0.0 due to no predicted samples.\n",
      "  'precision', 'predicted', average, warn_for)\n",
      "/Users/ayushi/anaconda3/lib/python3.6/site-packages/sklearn/metrics/classification.py:1135: UndefinedMetricWarning: Precision is ill-defined and being set to 0.0 due to no predicted samples.\n",
      "  'precision', 'predicted', average, warn_for)\n",
      "/Users/ayushi/anaconda3/lib/python3.6/site-packages/sklearn/metrics/classification.py:1135: UndefinedMetricWarning: F-score is ill-defined and being set to 0.0 due to no predicted samples.\n",
      "  'precision', 'predicted', average, warn_for)\n",
      "/Users/ayushi/anaconda3/lib/python3.6/site-packages/sklearn/metrics/classification.py:1135: UndefinedMetricWarning: Precision is ill-defined and being set to 0.0 due to no predicted samples.\n",
      "  'precision', 'predicted', average, warn_for)\n",
      "/Users/ayushi/anaconda3/lib/python3.6/site-packages/sklearn/metrics/classification.py:1135: UndefinedMetricWarning: F-score is ill-defined and being set to 0.0 due to no predicted samples.\n",
      "  'precision', 'predicted', average, warn_for)\n"
     ]
    }
   ],
   "source": [
    "startified_cv_results = cross_validate(knn, X, y_williams, cv=StratifiedKFold(n_splits = 3, shuffle=True, random_state=7392), scoring=('precision', 'recall', 'f1'), return_train_score=False)"
   ]
  },
  {
   "cell_type": "code",
   "execution_count": 19,
   "metadata": {},
   "outputs": [
    {
     "data": {
      "text/plain": [
       "{'fit_time': array([5.50879574, 4.9951129 , 4.71376014]),\n",
       " 'score_time': array([767.57621312, 763.16864514, 765.78671575]),\n",
       " 'test_precision': array([0., 0., 0.]),\n",
       " 'test_recall': array([0., 0., 0.]),\n",
       " 'test_f1': array([0., 0., 0.])}"
      ]
     },
     "execution_count": 19,
     "metadata": {},
     "output_type": "execute_result"
    }
   ],
   "source": [
    "startified_cv_results"
   ]
  },
  {
   "cell_type": "code",
   "execution_count": 20,
   "metadata": {},
   "outputs": [
    {
     "name": "stdout",
     "output_type": "stream",
     "text": [
      "fit_time mean is: 5.072556257247925\n",
      "score_time mean is: 765.510524670283\n",
      "test_precision mean is: 0.0\n",
      "test_recall mean is: 0.0\n",
      "test_f1 mean is: 0.0\n"
     ]
    }
   ],
   "source": [
    "fit_timemean = statistics.mean(startified_cv_results['fit_time'])\n",
    "print(\"fit_time mean is:\", fit_timemean)\n",
    "score_timemean = statistics.mean(startified_cv_results['score_time'])\n",
    "print(\"score_time mean is:\", score_timemean)\n",
    "test_precisionmean = statistics.mean(startified_cv_results['test_precision'])\n",
    "print(\"test_precision mean is:\", test_precisionmean)\n",
    "test_recallmean = statistics.mean(startified_cv_results['test_recall'])\n",
    "print(\"test_recall mean is:\", test_recallmean)\n",
    "test_f1mean = statistics.mean(startified_cv_results['test_f1'])\n",
    "print(\"test_f1 mean is:\", test_f1mean)"
   ]
  },
  {
   "cell_type": "code",
   "execution_count": 21,
   "metadata": {},
   "outputs": [],
   "source": [
    "knn = KNeighborsClassifier(n_neighbors=5)"
   ]
  },
  {
   "cell_type": "code",
   "execution_count": 22,
   "metadata": {},
   "outputs": [
    {
     "name": "stderr",
     "output_type": "stream",
     "text": [
      "/Users/ayushi/anaconda3/lib/python3.6/site-packages/sklearn/metrics/classification.py:1135: UndefinedMetricWarning: Precision is ill-defined and being set to 0.0 due to no predicted samples.\n",
      "  'precision', 'predicted', average, warn_for)\n",
      "/Users/ayushi/anaconda3/lib/python3.6/site-packages/sklearn/metrics/classification.py:1135: UndefinedMetricWarning: F-score is ill-defined and being set to 0.0 due to no predicted samples.\n",
      "  'precision', 'predicted', average, warn_for)\n",
      "/Users/ayushi/anaconda3/lib/python3.6/site-packages/sklearn/metrics/classification.py:1135: UndefinedMetricWarning: Precision is ill-defined and being set to 0.0 due to no predicted samples.\n",
      "  'precision', 'predicted', average, warn_for)\n",
      "/Users/ayushi/anaconda3/lib/python3.6/site-packages/sklearn/metrics/classification.py:1135: UndefinedMetricWarning: F-score is ill-defined and being set to 0.0 due to no predicted samples.\n",
      "  'precision', 'predicted', average, warn_for)\n",
      "/Users/ayushi/anaconda3/lib/python3.6/site-packages/sklearn/metrics/classification.py:1135: UndefinedMetricWarning: Precision is ill-defined and being set to 0.0 due to no predicted samples.\n",
      "  'precision', 'predicted', average, warn_for)\n",
      "/Users/ayushi/anaconda3/lib/python3.6/site-packages/sklearn/metrics/classification.py:1135: UndefinedMetricWarning: F-score is ill-defined and being set to 0.0 due to no predicted samples.\n",
      "  'precision', 'predicted', average, warn_for)\n"
     ]
    }
   ],
   "source": [
    "startified_cv_results = cross_validate(knn, X, y_williams, cv=StratifiedKFold(n_splits = 3, shuffle=True, random_state=7392), scoring=('precision', 'recall', 'f1'), return_train_score=False)"
   ]
  },
  {
   "cell_type": "code",
   "execution_count": 23,
   "metadata": {},
   "outputs": [
    {
     "data": {
      "text/plain": [
       "{'fit_time': array([5.1504488 , 4.83519816, 5.27125812]),\n",
       " 'score_time': array([774.67728996, 803.811234  , 784.83699679]),\n",
       " 'test_precision': array([0., 0., 0.]),\n",
       " 'test_recall': array([0., 0., 0.]),\n",
       " 'test_f1': array([0., 0., 0.])}"
      ]
     },
     "execution_count": 23,
     "metadata": {},
     "output_type": "execute_result"
    }
   ],
   "source": [
    "startified_cv_results"
   ]
  },
  {
   "cell_type": "code",
   "execution_count": 24,
   "metadata": {},
   "outputs": [
    {
     "name": "stdout",
     "output_type": "stream",
     "text": [
      "fit_time mean is: 5.0856350262959795\n",
      "score_time mean is: 787.7751735846201\n",
      "test_precision mean is: 0.0\n",
      "test_recall mean is: 0.0\n",
      "test_f1 mean is: 0.0\n"
     ]
    }
   ],
   "source": [
    "fit_timemean = statistics.mean(startified_cv_results['fit_time'])\n",
    "print(\"fit_time mean is:\", fit_timemean)\n",
    "score_timemean = statistics.mean(startified_cv_results['score_time'])\n",
    "print(\"score_time mean is:\", score_timemean)\n",
    "test_precisionmean = statistics.mean(startified_cv_results['test_precision'])\n",
    "print(\"test_precision mean is:\", test_precisionmean)\n",
    "test_recallmean = statistics.mean(startified_cv_results['test_recall'])\n",
    "print(\"test_recall mean is:\", test_recallmean)\n",
    "test_f1mean = statistics.mean(startified_cv_results['test_f1'])\n",
    "print(\"test_f1 mean is:\", test_f1mean)"
   ]
  },
  {
   "cell_type": "code",
   "execution_count": 26,
   "metadata": {},
   "outputs": [],
   "source": [
    "svc1 = SVC(C = 1.0, kernel = 'linear')"
   ]
  },
  {
   "cell_type": "code",
   "execution_count": 27,
   "metadata": {},
   "outputs": [],
   "source": [
    "startified_cv_results = cross_validate(svc1, X, y_williams, cv=StratifiedKFold(n_splits = 3, shuffle=True, random_state=7392), scoring=('precision', 'recall', 'f1'), return_train_score=False)"
   ]
  },
  {
   "cell_type": "code",
   "execution_count": 28,
   "metadata": {},
   "outputs": [
    {
     "data": {
      "text/plain": [
       "{'fit_time': array([13.08832002, 13.35341787, 12.6324017 ]),\n",
       " 'score_time': array([12.64379883, 13.10469317, 12.52309322]),\n",
       " 'test_precision': array([0.6       , 0.875     , 0.77777778]),\n",
       " 'test_recall': array([0.33333333, 0.41176471, 0.41176471]),\n",
       " 'test_f1': array([0.42857143, 0.56      , 0.53846154])}"
      ]
     },
     "execution_count": 28,
     "metadata": {},
     "output_type": "execute_result"
    }
   ],
   "source": [
    "startified_cv_results"
   ]
  },
  {
   "cell_type": "code",
   "execution_count": 44,
   "metadata": {},
   "outputs": [],
   "source": [
    "svc2 = SVC(C = 0.001235, kernel = 'linear')"
   ]
  },
  {
   "cell_type": "code",
   "execution_count": 45,
   "metadata": {},
   "outputs": [
    {
     "name": "stderr",
     "output_type": "stream",
     "text": [
      "/Users/ayushi/anaconda3/lib/python3.6/site-packages/sklearn/metrics/classification.py:1135: UndefinedMetricWarning: Precision is ill-defined and being set to 0.0 due to no predicted samples.\n",
      "  'precision', 'predicted', average, warn_for)\n",
      "/Users/ayushi/anaconda3/lib/python3.6/site-packages/sklearn/metrics/classification.py:1135: UndefinedMetricWarning: F-score is ill-defined and being set to 0.0 due to no predicted samples.\n",
      "  'precision', 'predicted', average, warn_for)\n",
      "/Users/ayushi/anaconda3/lib/python3.6/site-packages/sklearn/metrics/classification.py:1135: UndefinedMetricWarning: Precision is ill-defined and being set to 0.0 due to no predicted samples.\n",
      "  'precision', 'predicted', average, warn_for)\n",
      "/Users/ayushi/anaconda3/lib/python3.6/site-packages/sklearn/metrics/classification.py:1135: UndefinedMetricWarning: F-score is ill-defined and being set to 0.0 due to no predicted samples.\n",
      "  'precision', 'predicted', average, warn_for)\n",
      "/Users/ayushi/anaconda3/lib/python3.6/site-packages/sklearn/metrics/classification.py:1135: UndefinedMetricWarning: Precision is ill-defined and being set to 0.0 due to no predicted samples.\n",
      "  'precision', 'predicted', average, warn_for)\n",
      "/Users/ayushi/anaconda3/lib/python3.6/site-packages/sklearn/metrics/classification.py:1135: UndefinedMetricWarning: F-score is ill-defined and being set to 0.0 due to no predicted samples.\n",
      "  'precision', 'predicted', average, warn_for)\n"
     ]
    }
   ],
   "source": [
    "startified_cv_results = cross_validate(svc2, X, y_williams, cv=StratifiedKFold(n_splits = 3, shuffle=True, random_state=7392), scoring=('precision', 'recall', 'f1'), return_train_score=False)"
   ]
  },
  {
   "cell_type": "code",
   "execution_count": 46,
   "metadata": {},
   "outputs": [
    {
     "data": {
      "text/plain": [
       "{'fit_time': array([ 9.46807194, 10.43614602, 10.13324618]),\n",
       " 'score_time': array([ 9.77431703, 10.61199212, 10.84838486]),\n",
       " 'test_precision': array([0., 0., 0.]),\n",
       " 'test_recall': array([0., 0., 0.]),\n",
       " 'test_f1': array([0., 0., 0.])}"
      ]
     },
     "execution_count": 46,
     "metadata": {},
     "output_type": "execute_result"
    }
   ],
   "source": [
    "startified_cv_results"
   ]
  },
  {
   "cell_type": "code",
   "execution_count": 50,
   "metadata": {},
   "outputs": [],
   "source": [
    "svc3 = SVC(C = 0.0199, kernel = 'linear')"
   ]
  },
  {
   "cell_type": "code",
   "execution_count": 51,
   "metadata": {},
   "outputs": [],
   "source": [
    "startified_cv_results = cross_validate(svc3, X, y_williams, cv=StratifiedKFold(n_splits = 3, shuffle=True, random_state=7392), scoring=('precision', 'recall', 'f1'), return_train_score=False)"
   ]
  },
  {
   "cell_type": "code",
   "execution_count": 52,
   "metadata": {},
   "outputs": [
    {
     "data": {
      "text/plain": [
       "{'fit_time': array([11.07270026, 12.16071415, 11.85695386]),\n",
       " 'score_time': array([11.09796095, 12.07650805, 12.31456995]),\n",
       " 'test_precision': array([0.5       , 0.8       , 0.85714286]),\n",
       " 'test_recall': array([0.16666667, 0.23529412, 0.35294118]),\n",
       " 'test_f1': array([0.25      , 0.36363636, 0.5       ])}"
      ]
     },
     "execution_count": 52,
     "metadata": {},
     "output_type": "execute_result"
    }
   ],
   "source": [
    "startified_cv_results"
   ]
  },
  {
   "cell_type": "code",
   "execution_count": 53,
   "metadata": {},
   "outputs": [],
   "source": [
    "svc4 = SVC(C = 0.05678, kernel = 'linear')"
   ]
  },
  {
   "cell_type": "code",
   "execution_count": 54,
   "metadata": {},
   "outputs": [],
   "source": [
    "startified_cv_results = cross_validate(svc4, X, y_williams, cv=StratifiedKFold(n_splits = 3, shuffle=True, random_state=7392), scoring=('precision', 'recall', 'f1'), return_train_score=False)"
   ]
  },
  {
   "cell_type": "code",
   "execution_count": 55,
   "metadata": {},
   "outputs": [
    {
     "data": {
      "text/plain": [
       "{'fit_time': array([12.45424366, 11.92206383, 11.904778  ]),\n",
       " 'score_time': array([10.90795231, 12.32004809, 12.09842777]),\n",
       " 'test_precision': array([0.63636364, 0.875     , 0.75      ]),\n",
       " 'test_recall': array([0.38888889, 0.41176471, 0.35294118]),\n",
       " 'test_f1': array([0.48275862, 0.56      , 0.48      ])}"
      ]
     },
     "execution_count": 55,
     "metadata": {},
     "output_type": "execute_result"
    }
   ],
   "source": [
    "startified_cv_results"
   ]
  },
  {
   "cell_type": "code",
   "execution_count": 66,
   "metadata": {},
   "outputs": [
    {
     "data": {
      "text/plain": [
       "0.0008848321288178395"
      ]
     },
     "execution_count": 66,
     "metadata": {},
     "output_type": "execute_result"
    }
   ],
   "source": [
    "value = (1/(X.shape[1]*X.std()))\n",
    "value"
   ]
  },
  {
   "cell_type": "code",
   "execution_count": 67,
   "metadata": {},
   "outputs": [],
   "source": [
    "svc5 = SVC(C = 10, kernel = 'rbf', gamma=value)"
   ]
  },
  {
   "cell_type": "code",
   "execution_count": 68,
   "metadata": {},
   "outputs": [],
   "source": [
    "startified_cv_results = cross_validate(svc5, X, y_williams, cv=StratifiedKFold(n_splits = 3, shuffle=True, random_state=7392), scoring=('precision', 'recall', 'f1'), return_train_score=False)"
   ]
  },
  {
   "cell_type": "code",
   "execution_count": 69,
   "metadata": {},
   "outputs": [
    {
     "data": {
      "text/plain": [
       "{'fit_time': array([11.10533285, 13.60571313, 13.06357098]),\n",
       " 'score_time': array([13.66587615, 16.59953809, 15.23475504]),\n",
       " 'test_precision': array([0.8       , 0.85714286, 1.        ]),\n",
       " 'test_recall': array([0.22222222, 0.35294118, 0.23529412]),\n",
       " 'test_f1': array([0.34782609, 0.5       , 0.38095238])}"
      ]
     },
     "execution_count": 69,
     "metadata": {},
     "output_type": "execute_result"
    }
   ],
   "source": [
    "startified_cv_results"
   ]
  },
  {
   "cell_type": "code",
   "execution_count": 70,
   "metadata": {},
   "outputs": [],
   "source": [
    "svc6 = SVC(C = 99999000, kernel = 'rbf', gamma=value)"
   ]
  },
  {
   "cell_type": "code",
   "execution_count": 71,
   "metadata": {},
   "outputs": [],
   "source": [
    "startified_cv_results = cross_validate(svc6, X, y_williams, cv=StratifiedKFold(n_splits = 3, shuffle=True, random_state=7392), scoring=('precision', 'recall', 'f1'), return_train_score=False)"
   ]
  },
  {
   "cell_type": "code",
   "execution_count": 72,
   "metadata": {},
   "outputs": [
    {
     "data": {
      "text/plain": [
       "{'fit_time': array([13.74499822, 14.25390387, 13.51091075]),\n",
       " 'score_time': array([15.5042479 , 17.11228895, 16.33870125]),\n",
       " 'test_precision': array([0.66666667, 0.875     , 1.        ]),\n",
       " 'test_recall': array([0.22222222, 0.41176471, 0.35294118]),\n",
       " 'test_f1': array([0.33333333, 0.56      , 0.52173913])}"
      ]
     },
     "execution_count": 72,
     "metadata": {},
     "output_type": "execute_result"
    }
   ],
   "source": [
    "startified_cv_results"
   ]
  },
  {
   "cell_type": "code",
   "execution_count": 85,
   "metadata": {},
   "outputs": [],
   "source": [
    "svc7 = SVC(C = 99, kernel = 'rbf', gamma=value)"
   ]
  },
  {
   "cell_type": "code",
   "execution_count": 86,
   "metadata": {},
   "outputs": [],
   "source": [
    "startified_cv_results = cross_validate(svc7, X, y_williams, cv=StratifiedKFold(n_splits = 3, shuffle=True, random_state=7392), scoring=('precision', 'recall', 'f1'), return_train_score=False)"
   ]
  },
  {
   "cell_type": "code",
   "execution_count": 87,
   "metadata": {},
   "outputs": [
    {
     "data": {
      "text/plain": [
       "{'fit_time': array([12.20116782, 14.01994491, 13.4982338 ]),\n",
       " 'score_time': array([15.73744512, 16.587327  , 16.17827201]),\n",
       " 'test_precision': array([0.66666667, 0.875     , 1.        ]),\n",
       " 'test_recall': array([0.22222222, 0.41176471, 0.35294118]),\n",
       " 'test_f1': array([0.33333333, 0.56      , 0.52173913])}"
      ]
     },
     "execution_count": 87,
     "metadata": {},
     "output_type": "execute_result"
    }
   ],
   "source": [
    "startified_cv_results"
   ]
  },
  {
   "cell_type": "code",
   "execution_count": 88,
   "metadata": {},
   "outputs": [],
   "source": [
    "svc8 = SVC(C = 1, kernel = 'poly', degree=3, coef0=1)"
   ]
  },
  {
   "cell_type": "code",
   "execution_count": 89,
   "metadata": {},
   "outputs": [
    {
     "name": "stderr",
     "output_type": "stream",
     "text": [
      "/Users/ayushi/anaconda3/lib/python3.6/site-packages/sklearn/metrics/classification.py:1135: UndefinedMetricWarning: Precision is ill-defined and being set to 0.0 due to no predicted samples.\n",
      "  'precision', 'predicted', average, warn_for)\n",
      "/Users/ayushi/anaconda3/lib/python3.6/site-packages/sklearn/metrics/classification.py:1135: UndefinedMetricWarning: F-score is ill-defined and being set to 0.0 due to no predicted samples.\n",
      "  'precision', 'predicted', average, warn_for)\n",
      "/Users/ayushi/anaconda3/lib/python3.6/site-packages/sklearn/metrics/classification.py:1135: UndefinedMetricWarning: Precision is ill-defined and being set to 0.0 due to no predicted samples.\n",
      "  'precision', 'predicted', average, warn_for)\n",
      "/Users/ayushi/anaconda3/lib/python3.6/site-packages/sklearn/metrics/classification.py:1135: UndefinedMetricWarning: F-score is ill-defined and being set to 0.0 due to no predicted samples.\n",
      "  'precision', 'predicted', average, warn_for)\n",
      "/Users/ayushi/anaconda3/lib/python3.6/site-packages/sklearn/metrics/classification.py:1135: UndefinedMetricWarning: Precision is ill-defined and being set to 0.0 due to no predicted samples.\n",
      "  'precision', 'predicted', average, warn_for)\n",
      "/Users/ayushi/anaconda3/lib/python3.6/site-packages/sklearn/metrics/classification.py:1135: UndefinedMetricWarning: F-score is ill-defined and being set to 0.0 due to no predicted samples.\n",
      "  'precision', 'predicted', average, warn_for)\n"
     ]
    }
   ],
   "source": [
    "startified_cv_results = cross_validate(svc8, X, y_williams, cv=StratifiedKFold(n_splits = 3, shuffle=True, random_state=7392), scoring=('precision', 'recall', 'f1'), return_train_score=False)"
   ]
  },
  {
   "cell_type": "code",
   "execution_count": 90,
   "metadata": {},
   "outputs": [
    {
     "data": {
      "text/plain": [
       "{'fit_time': array([10.44798899, 11.75636697, 11.54777122]),\n",
       " 'score_time': array([11.1999681 , 12.68583393, 12.59170985]),\n",
       " 'test_precision': array([0., 0., 0.]),\n",
       " 'test_recall': array([0., 0., 0.]),\n",
       " 'test_f1': array([0., 0., 0.])}"
      ]
     },
     "execution_count": 90,
     "metadata": {},
     "output_type": "execute_result"
    }
   ],
   "source": [
    "startified_cv_results"
   ]
  },
  {
   "cell_type": "code",
   "execution_count": 91,
   "metadata": {},
   "outputs": [],
   "source": [
    "svc9 = SVC(C = 4, kernel = 'poly', degree=9, coef0=5)"
   ]
  },
  {
   "cell_type": "code",
   "execution_count": 92,
   "metadata": {},
   "outputs": [],
   "source": [
    "startified_cv_results = cross_validate(svc9, X, y_williams, cv=StratifiedKFold(n_splits = 3, shuffle=True, random_state=7392), scoring=('precision', 'recall', 'f1'), return_train_score=False)"
   ]
  },
  {
   "cell_type": "code",
   "execution_count": 93,
   "metadata": {},
   "outputs": [
    {
     "data": {
      "text/plain": [
       "{'fit_time': array([12.68016815, 13.50575686, 12.98041177]),\n",
       " 'score_time': array([14.39763689, 14.79164386, 14.26632714]),\n",
       " 'test_precision': array([0.625     , 0.88888889, 0.7       ]),\n",
       " 'test_recall': array([0.27777778, 0.47058824, 0.41176471]),\n",
       " 'test_f1': array([0.38461538, 0.61538462, 0.51851852])}"
      ]
     },
     "execution_count": 93,
     "metadata": {},
     "output_type": "execute_result"
    }
   ],
   "source": [
    "startified_cv_results"
   ]
  },
  {
   "cell_type": "code",
   "execution_count": 97,
   "metadata": {},
   "outputs": [],
   "source": [
    "svc10 = SVC(C = 10, kernel = 'poly', degree=3, coef0=2)"
   ]
  },
  {
   "cell_type": "code",
   "execution_count": 98,
   "metadata": {},
   "outputs": [],
   "source": [
    "startified_cv_results = cross_validate(svc10, X, y_williams, cv=StratifiedKFold(n_splits = 3, shuffle=True, random_state=7392), scoring=('precision', 'recall', 'f1'), return_train_score=False)"
   ]
  },
  {
   "cell_type": "code",
   "execution_count": 99,
   "metadata": {},
   "outputs": [
    {
     "data": {
      "text/plain": [
       "{'fit_time': array([10.64370203, 11.27028918, 11.11392283]),\n",
       " 'score_time': array([11.03428102, 11.96474981, 12.04676819]),\n",
       " 'test_precision': array([0.625, 0.875, 0.75 ]),\n",
       " 'test_recall': array([0.27777778, 0.41176471, 0.35294118]),\n",
       " 'test_f1': array([0.38461538, 0.56      , 0.48      ])}"
      ]
     },
     "execution_count": 99,
     "metadata": {},
     "output_type": "execute_result"
    }
   ],
   "source": [
    "startified_cv_results"
   ]
  },
  {
   "cell_type": "code",
   "execution_count": 118,
   "metadata": {},
   "outputs": [],
   "source": [
    "svc11 = SVC(C = 100, kernel = 'poly', degree=3, coef0=2)"
   ]
  },
  {
   "cell_type": "code",
   "execution_count": 119,
   "metadata": {},
   "outputs": [],
   "source": [
    "startified_cv_results = cross_validate(svc11, X, y_williams, cv=StratifiedKFold(n_splits = 3, shuffle=True, random_state=7392), scoring=('precision', 'recall', 'f1'), return_train_score=False)"
   ]
  },
  {
   "cell_type": "code",
   "execution_count": 120,
   "metadata": {},
   "outputs": [
    {
     "data": {
      "text/plain": [
       "{'fit_time': array([13.10019803, 13.05727196, 12.14418697]),\n",
       " 'score_time': array([13.47802186, 12.5717411 , 12.45664001]),\n",
       " 'test_precision': array([0.66666667, 0.88888889, 0.77777778]),\n",
       " 'test_recall': array([0.33333333, 0.47058824, 0.41176471]),\n",
       " 'test_f1': array([0.44444444, 0.61538462, 0.53846154])}"
      ]
     },
     "execution_count": 120,
     "metadata": {},
     "output_type": "execute_result"
    }
   ],
   "source": [
    "startified_cv_results"
   ]
  },
  {
   "cell_type": "code",
   "execution_count": 121,
   "metadata": {},
   "outputs": [
    {
     "name": "stdout",
     "output_type": "stream",
     "text": [
      "fit_time mean is: 12.767218987147013\n",
      "score_time mean is: 12.835467656453451\n",
      "test_precision mean is: 0.7777777777777778\n",
      "test_recall mean is: 0.40522875816993464\n",
      "test_f1 mean is: 0.5327635327635327\n"
     ]
    }
   ],
   "source": [
    "fit_timemean = statistics.mean(startified_cv_results['fit_time'])\n",
    "print(\"fit_time mean is:\", fit_timemean)\n",
    "score_timemean = statistics.mean(startified_cv_results['score_time'])\n",
    "print(\"score_time mean is:\", score_timemean)\n",
    "test_precisionmean = statistics.mean(startified_cv_results['test_precision'])\n",
    "print(\"test_precision mean is:\", test_precisionmean)\n",
    "test_recallmean = statistics.mean(startified_cv_results['test_recall'])\n",
    "print(\"test_recall mean is:\", test_recallmean)\n",
    "test_f1mean = statistics.mean(startified_cv_results['test_f1'])\n",
    "print(\"test_f1 mean is:\", test_f1mean)"
   ]
  },
  {
   "cell_type": "code",
   "execution_count": 125,
   "metadata": {},
   "outputs": [],
   "source": [
    "svc111 = SVC(C = 100, kernel = 'poly', degree=300, coef0=1)"
   ]
  },
  {
   "cell_type": "code",
   "execution_count": null,
   "metadata": {},
   "outputs": [],
   "source": [
    "startified_cv_results = cross_validate(svc111, X, y_bush, cv=StratifiedKFold(n_splits = 3, shuffle=True, random_state=7392), scoring=('precision', 'recall', 'f1'), return_train_score=False)"
   ]
  },
  {
   "cell_type": "code",
   "execution_count": null,
   "metadata": {},
   "outputs": [],
   "source": [
    "startified_cv_results"
   ]
  },
  {
   "cell_type": "code",
   "execution_count": null,
   "metadata": {},
   "outputs": [],
   "source": []
  }
 ],
 "metadata": {
  "kernelspec": {
   "display_name": "Python 3",
   "language": "python",
   "name": "python3"
  },
  "language_info": {
   "codemirror_mode": {
    "name": "ipython",
    "version": 3
   },
   "file_extension": ".py",
   "mimetype": "text/x-python",
   "name": "python",
   "nbconvert_exporter": "python",
   "pygments_lexer": "ipython3",
   "version": "3.6.5"
  }
 },
 "nbformat": 4,
 "nbformat_minor": 2
}
